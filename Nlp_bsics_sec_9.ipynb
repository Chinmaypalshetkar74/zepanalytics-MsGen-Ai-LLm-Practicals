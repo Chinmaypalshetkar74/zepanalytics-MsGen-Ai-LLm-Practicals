{
  "cells": [
    {
      "cell_type": "code",
      "execution_count": null,
      "metadata": {
        "colab": {
          "base_uri": "https://localhost:8080/"
        },
        "id": "jEqWvocrLrPG",
        "outputId": "0dc6ae3d-6530-46aa-d654-06503d670127"
      },
      "outputs": [
        {
          "output_type": "stream",
          "name": "stdout",
          "text": [
            "hello 👋 my Name Is CHinmay , and Welcome to My World\n"
          ]
        }
      ],
      "source": [
        "txt= \"hello 👋 my Name Is CHinmay , and Welcome to My World\"\n",
        "print(txt)\n"
      ]
    },
    {
      "cell_type": "code",
      "execution_count": null,
      "metadata": {
        "colab": {
          "base_uri": "https://localhost:8080/"
        },
        "id": "7xp3ckAaMM49",
        "outputId": "87f7b89d-5a41-45ce-990c-1681c11de74f"
      },
      "outputs": [
        {
          "output_type": "stream",
          "name": "stdout",
          "text": [
            "hello 👋 my name is chinmay , and welcome to my world\n"
          ]
        }
      ],
      "source": [
        "x = txt.casefold()\n",
        "print(x)"
      ]
    },
    {
      "cell_type": "code",
      "execution_count": null,
      "metadata": {
        "colab": {
          "base_uri": "https://localhost:8080/"
        },
        "id": "OXEYZ1ivMNAN",
        "outputId": "0cf0a24c-c0e4-4238-afaa-8e35a31db65c"
      },
      "outputs": [
        {
          "output_type": "stream",
          "name": "stdout",
          "text": [
            "hello 👋 my name is chinmay , and welcome to my world\n"
          ]
        }
      ],
      "source": [
        "y = txt.lower()\n",
        "print(y)"
      ]
    },
    {
      "cell_type": "code",
      "execution_count": null,
      "metadata": {
        "colab": {
          "base_uri": "https://localhost:8080/"
        },
        "id": "i_15tl45MNDV",
        "outputId": "70ca3d3d-12f4-430f-825c-d5ddb4ae6ff6"
      },
      "outputs": [
        {
          "output_type": "stream",
          "name": "stdout",
          "text": [
            "hello how are you\n"
          ]
        }
      ],
      "source": [
        "# scr - special character removal\n",
        "import re\n",
        "#input string\n",
        "input_str = \"hello how are$ you!\"\n",
        "\n",
        "#using regular expression to remove special characters\n",
        "clean_str = re.sub(r\"[^a-zA-Z0-9\\s]\",\"\", input_str)\n",
        "\n",
        "print(clean_str)"
      ]
    },
    {
      "cell_type": "code",
      "execution_count": null,
      "metadata": {
        "colab": {
          "base_uri": "https://localhost:8080/"
        },
        "id": "G9GVjRDvMNGt",
        "outputId": "4e7f604c-f8b1-4121-892d-39b480764572"
      },
      "outputs": [
        {
          "output_type": "stream",
          "name": "stdout",
          "text": [
            "hello123 how are you\n"
          ]
        }
      ],
      "source": [
        "# scr - special character removal\n",
        "import re\n",
        "#input string\n",
        "input_str = \"hello123 how are$ you!!\"\n",
        "\n",
        "#using regular expression to remove special characters\n",
        "clean_str = re.sub(r\"[^a-zA-Z0-9\\s]\",\"\", input_str)\n",
        "\n",
        "print(clean_str)"
      ]
    },
    {
      "cell_type": "code",
      "execution_count": null,
      "metadata": {
        "colab": {
          "base_uri": "https://localhost:8080/"
        },
        "id": "yPvu_aBpMNN9",
        "outputId": "ecdb3c8c-71db-4d94-9699-6e708ffa4fd1"
      },
      "outputs": [
        {
          "output_type": "stream",
          "name": "stdout",
          "text": [
            "hello how are you\n"
          ]
        }
      ],
      "source": [
        "# scr - special character removal\n",
        "import re\n",
        "#input string\n",
        "input_str = \"hello123 how are$ you!!\"\n",
        "\n",
        "#using regular expression to remove special characters\n",
        "clean_str = re.sub(r\"[^a-zA-Z\\s]\",\"\", input_str)\n",
        "\n",
        "print(clean_str)"
      ]
    },
    {
      "cell_type": "markdown",
      "metadata": {
        "id": "i0tJXIrmQcXZ"
      },
      "source": [
        "#Libraries in field of nlp\n",
        "- spaCy - Natural language processing library in python that can be used in process and tokenize data and process textual data\n",
        "\n",
        "- nltk - natural language tool kits\n",
        "\n",
        "\n"
      ]
    },
    {
      "cell_type": "code",
      "execution_count": null,
      "metadata": {
        "colab": {
          "base_uri": "https://localhost:8080/"
        },
        "id": "OQPL8RSQQ69n",
        "outputId": "35f35fcb-ca48-42ef-d7a4-d40391bc6fe4"
      },
      "outputs": [
        {
          "output_type": "stream",
          "name": "stdout",
          "text": [
            "hellohowareyou\n"
          ]
        }
      ],
      "source": [
        "import spacy\n",
        "\n",
        "#Load the spacy model\n",
        "nlp = spacy.load('en_core_web_sm') # these model has lot of textual data like train model\n",
        "\n",
        "#Input string\n",
        "input_str=\"hello how are$ you!\"\n",
        "\n",
        "\n",
        "# Function to clean the string\n",
        "def clean_text(text):\n",
        "  cleaned_text=''.join(char for char in text if char.isalpha() or char.isspace())\n",
        "  doc = nlp(cleaned_text)\n",
        "  return ''.join(token.text for token in doc)\n",
        "\n",
        "# Get the Final output\n",
        "clean_str = clean_text(input_str)\n",
        "print(clean_str) # in output we get our output without spacing"
      ]
    },
    {
      "cell_type": "code",
      "execution_count": null,
      "metadata": {
        "colab": {
          "base_uri": "https://localhost:8080/"
        },
        "id": "r7eG94SPTGw3",
        "outputId": "4c26b0ad-b5d3-4a11-b997-3093e7afe48d"
      },
      "outputs": [
        {
          "output_type": "stream",
          "name": "stdout",
          "text": [
            "hello how are you\n"
          ]
        }
      ],
      "source": [
        "import spacy\n",
        "\n",
        "#Load the spacy model\n",
        "nlp = spacy.load('en_core_web_sm') # these model has lot of textual data like train model\n",
        "\n",
        "#Input string\n",
        "input_str=\"hello how are$ you!\"\n",
        "\n",
        "\n",
        "# Function to clean the string\n",
        "def clean_text(text):\n",
        "  cleaned_text=''.join(char for char in text if char.isalpha() or char.isspace()) # here we defining that unwanted characters\n",
        "  doc = nlp(cleaned_text)\n",
        "  return ' '.join(token.text for token in doc)\n",
        "\n",
        "# Get the Final output\n",
        "clean_str = clean_text(input_str)\n",
        "print(clean_str)"
      ]
    },
    {
      "cell_type": "code",
      "execution_count": null,
      "metadata": {
        "colab": {
          "base_uri": "https://localhost:8080/"
        },
        "id": "iAtxt4ZcUK-Z",
        "outputId": "a4cf562a-efcc-45be-ca44-c6835b30bca1"
      },
      "outputs": [
        {
          "output_type": "stream",
          "name": "stdout",
          "text": [
            "['hello', 'how', 'are', '$', 'you', '!', '!']\n"
          ]
        },
        {
          "output_type": "stream",
          "name": "stderr",
          "text": [
            "[nltk_data] Downloading package punkt to /root/nltk_data...\n",
            "[nltk_data]   Package punkt is already up-to-date!\n"
          ]
        }
      ],
      "source": [
        "import nltk\n",
        "\n",
        "nltk.download('punkt')\n",
        "# nltk.download('punkt_tab') # This resource is not required and causing an error\n",
        "\n",
        "input_str = \"hello how are$ you !!\"\n",
        "\n",
        "#Tokenize\n",
        "tokens = nltk.word_tokenize(input_str)\n",
        "print(tokens)"
      ]
    },
    {
      "cell_type": "code",
      "source": [
        "import nltk\n",
        "nltk.download('punkt')\n",
        "nltk.download('punkt_tab')\n"
      ],
      "metadata": {
        "colab": {
          "base_uri": "https://localhost:8080/"
        },
        "id": "JMg-wFJUPjNq",
        "outputId": "2f83245f-90a2-4039-904f-d266c514e710"
      },
      "execution_count": null,
      "outputs": [
        {
          "output_type": "stream",
          "name": "stderr",
          "text": [
            "[nltk_data] Downloading package punkt to /root/nltk_data...\n",
            "[nltk_data]   Package punkt is already up-to-date!\n",
            "[nltk_data] Downloading package punkt_tab to /root/nltk_data...\n",
            "[nltk_data]   Unzipping tokenizers/punkt_tab.zip.\n"
          ]
        },
        {
          "output_type": "execute_result",
          "data": {
            "text/plain": [
              "True"
            ]
          },
          "metadata": {},
          "execution_count": 13
        }
      ]
    },
    {
      "cell_type": "code",
      "execution_count": null,
      "metadata": {
        "colab": {
          "base_uri": "https://localhost:8080/"
        },
        "id": "LLH4xA7pULJw",
        "outputId": "518faa9b-b20a-4f42-a9ae-e9d7c384fdb3"
      },
      "outputs": [
        {
          "output_type": "stream",
          "name": "stdout",
          "text": [
            "hello how are you\n"
          ]
        }
      ],
      "source": [
        "# Remove special characters\n",
        "\n",
        "clean_tokens = [token for token in tokens  if token.isalnum()]\n",
        "clean_str= ' '.join(clean_tokens)\n",
        "print(clean_str)"
      ]
    },
    {
      "cell_type": "code",
      "execution_count": null,
      "metadata": {
        "id": "btagF-XTULN3"
      },
      "outputs": [],
      "source": []
    },
    {
      "cell_type": "markdown",
      "metadata": {
        "id": "tPryVDCaWeHZ"
      },
      "source": [
        "**29 - Handling contractions**"
      ]
    },
    {
      "cell_type": "code",
      "execution_count": null,
      "metadata": {
        "colab": {
          "base_uri": "https://localhost:8080/"
        },
        "id": "i20KiU7eULSu",
        "outputId": "6334603b-a19b-424b-c56d-bb50c16df805"
      },
      "outputs": [
        {
          "output_type": "stream",
          "name": "stdout",
          "text": [
            "Collecting contractions\n",
            "  Downloading contractions-0.1.73-py2.py3-none-any.whl.metadata (1.2 kB)\n",
            "Collecting textsearch>=0.0.21 (from contractions)\n",
            "  Downloading textsearch-0.0.24-py2.py3-none-any.whl.metadata (1.2 kB)\n",
            "Collecting anyascii (from textsearch>=0.0.21->contractions)\n",
            "  Downloading anyascii-0.3.3-py3-none-any.whl.metadata (1.6 kB)\n",
            "Collecting pyahocorasick (from textsearch>=0.0.21->contractions)\n",
            "  Downloading pyahocorasick-2.2.0-cp312-cp312-manylinux_2_17_x86_64.manylinux2014_x86_64.whl.metadata (13 kB)\n",
            "Downloading contractions-0.1.73-py2.py3-none-any.whl (8.7 kB)\n",
            "Downloading textsearch-0.0.24-py2.py3-none-any.whl (7.6 kB)\n",
            "Downloading anyascii-0.3.3-py3-none-any.whl (345 kB)\n",
            "\u001b[2K   \u001b[90m━━━━━━━━━━━━━━━━━━━━━━━━━━━━━━━━━━━━━━━━\u001b[0m \u001b[32m345.1/345.1 kB\u001b[0m \u001b[31m11.4 MB/s\u001b[0m eta \u001b[36m0:00:00\u001b[0m\n",
            "\u001b[?25hDownloading pyahocorasick-2.2.0-cp312-cp312-manylinux_2_17_x86_64.manylinux2014_x86_64.whl (114 kB)\n",
            "\u001b[2K   \u001b[90m━━━━━━━━━━━━━━━━━━━━━━━━━━━━━━━━━━━━━━━━\u001b[0m \u001b[32m114.9/114.9 kB\u001b[0m \u001b[31m12.8 MB/s\u001b[0m eta \u001b[36m0:00:00\u001b[0m\n",
            "\u001b[?25hInstalling collected packages: pyahocorasick, anyascii, textsearch, contractions\n",
            "Successfully installed anyascii-0.3.3 contractions-0.1.73 pyahocorasick-2.2.0 textsearch-0.0.24\n"
          ]
        }
      ],
      "source": [
        "#handling contraction we have two techniques\n",
        "#pypy library for hanlde contractions\n",
        "!pip install contractions"
      ]
    },
    {
      "cell_type": "code",
      "execution_count": null,
      "metadata": {
        "colab": {
          "base_uri": "https://localhost:8080/"
        },
        "id": "plchHywzWmhH",
        "outputId": "a2464a82-3156-491b-e1aa-6718aa8ff624"
      },
      "outputs": [
        {
          "output_type": "stream",
          "name": "stdout",
          "text": [
            "I cannot belive it is already raining\n"
          ]
        }
      ],
      "source": [
        "import contractions\n",
        "\n",
        "txt = \"I can't belive it's already raining\"\n",
        "expanded_txt = contractions.fix(txt)\n",
        "print(expanded_txt)\n"
      ]
    },
    {
      "cell_type": "code",
      "execution_count": null,
      "metadata": {
        "colab": {
          "base_uri": "https://localhost:8080/"
        },
        "id": "QcO6u6jEWmj2",
        "outputId": "1e762775-026b-4915-8b0b-d41c85cf0a13"
      },
      "outputs": [
        {
          "output_type": "stream",
          "name": "stdout",
          "text": [
            "I did not say any wrong word\n"
          ]
        }
      ],
      "source": [
        "import contractions\n",
        "\n",
        "txt = \"I didn't say any wrong word\"\n",
        "expanded_txt = contractions.fix(txt)\n",
        "print(expanded_txt)\n"
      ]
    },
    {
      "cell_type": "code",
      "execution_count": null,
      "metadata": {
        "colab": {
          "base_uri": "https://localhost:8080/"
        },
        "id": "oYLpFu0KWmpw",
        "outputId": "06d55cad-256f-49c2-a466-18355cb46651"
      },
      "outputs": [
        {
          "output_type": "stream",
          "name": "stdout",
          "text": [
            "You did not see that email\n"
          ]
        }
      ],
      "source": [
        "import contractions\n",
        "\n",
        "txt = \"You didn't see that email\"\n",
        "expanded_txt = contractions.fix(txt)\n",
        "print(expanded_txt)"
      ]
    },
    {
      "cell_type": "code",
      "execution_count": null,
      "metadata": {
        "colab": {
          "base_uri": "https://localhost:8080/"
        },
        "id": "i3i4kOa6WmxH",
        "outputId": "1f9a8721-1ead-4d77-9b86-6e6063c0174f"
      },
      "outputs": [
        {
          "output_type": "stream",
          "name": "stdout",
          "text": [
            "I cannot belive it is already raining\n"
          ]
        }
      ],
      "source": [
        "import re\n",
        "\n",
        "def expanded_contractions(text):\n",
        "  return contractions.fix(text)\n",
        "\n",
        "txt = \"I can't belive it's already raining\"\n",
        "expanded_txt = expanded_contractions(txt)\n",
        "print(expanded_txt)"
      ]
    },
    {
      "cell_type": "code",
      "execution_count": null,
      "metadata": {
        "colab": {
          "base_uri": "https://localhost:8080/"
        },
        "id": "oMaiBN-bWm0-",
        "outputId": "4dbe0222-cdd5-41ce-c1ab-fa3410f8b7ce"
      },
      "outputs": [
        {
          "output_type": "stream",
          "name": "stdout",
          "text": [
            "I cannot belive it is already raining\n"
          ]
        }
      ],
      "source": [
        "import re\n",
        "\n",
        "def expanded_contractions(text):\n",
        "  contractions_pattern = {\n",
        "      r\"(?i)can't\":\"cannot\",\n",
        "      r\"(?i)won't\":\"will not\",\n",
        "      r\"(?i)it's\":\"it is\",\n",
        "      r\"(?i)weren't\":\"were not\",\n",
        "      r\"(?i)I'm\":\"I am\"\n",
        "\n",
        "\n",
        "  }\n",
        "  for contraction , expansion in contractions_pattern.items():\n",
        "    text = re.sub(contraction,expansion, text)\n",
        "\n",
        "  return text\n",
        "\n",
        "txt = \"I can't belive it's already raining\"\n",
        "expanded_txt = expanded_contractions(txt)\n",
        "print(expanded_txt)"
      ]
    },
    {
      "cell_type": "code",
      "execution_count": null,
      "metadata": {
        "colab": {
          "base_uri": "https://localhost:8080/"
        },
        "id": "_zx-EDkeWm4m",
        "outputId": "848f917a-102a-40be-dd45-5c3262b53719"
      },
      "outputs": [
        {
          "output_type": "stream",
          "name": "stdout",
          "text": [
            "I am running\n"
          ]
        }
      ],
      "source": [
        "\n",
        "txt = \"I'm running\"\n",
        "expanded_txt = expanded_contractions(txt)\n",
        "print(expanded_txt)"
      ]
    },
    {
      "cell_type": "code",
      "execution_count": null,
      "metadata": {
        "colab": {
          "base_uri": "https://localhost:8080/"
        },
        "id": "1HGOZliiULWP",
        "outputId": "4ce22040-a9dc-472a-c3e7-56f024779b07"
      },
      "outputs": [
        {
          "output_type": "stream",
          "name": "stdout",
          "text": [
            "I could not find my aunt's place yesterday\n"
          ]
        }
      ],
      "source": [
        "txt = \"I couldn't find my aunt's place yesterday\"\n",
        "expanded_txt = expanded_contractions(txt)\n",
        "print(expanded_txt)# these contraction not showing because we not add that in our dict"
      ]
    },
    {
      "cell_type": "code",
      "execution_count": null,
      "metadata": {
        "colab": {
          "base_uri": "https://localhost:8080/"
        },
        "id": "eaZDSzXpdn1N",
        "outputId": "0e83b38f-1d93-4272-b13a-66fc3d3133f0"
      },
      "outputs": [
        {
          "output_type": "stream",
          "name": "stdout",
          "text": [
            "I could not find my aunt's place yesterday\n"
          ]
        }
      ],
      "source": [
        "import re\n",
        "\n",
        "def expanded_contractions(text):\n",
        "  contractions_pattern = {\n",
        "      r\"(?i)can't\":\"cannot\",\n",
        "      r\"(?i)won't\":\"will not\",\n",
        "      r\"(?i)it's\":\"it is\",\n",
        "      r\"(?i)weren't\":\"were not\",\n",
        "      r\"(?i)I'm\":\"I am\",\n",
        "      r\"(?i)couldn't\":\"could not\",\n",
        "      r\"(?i)haven't\":\"have not\"\n",
        "\n",
        "  }\n",
        "  for contraction , expansion in contractions_pattern.items():\n",
        "    text = re.sub(contraction,expansion, text)\n",
        "\n",
        "  return text\n",
        "\n",
        "txt = \"I couldn't find my aunt's place yesterday\"\n",
        "expanded_txt = expanded_contractions(txt)\n",
        "print(expanded_txt)"
      ]
    },
    {
      "cell_type": "code",
      "execution_count": null,
      "metadata": {
        "id": "ckUeOIJ8d76X"
      },
      "outputs": [],
      "source": []
    },
    {
      "cell_type": "markdown",
      "metadata": {
        "id": "XVPtxkLyeBI1"
      },
      "source": [
        "**Tokenization**"
      ]
    },
    {
      "cell_type": "code",
      "execution_count": null,
      "metadata": {
        "colab": {
          "base_uri": "https://localhost:8080/"
        },
        "id": "drZZOwjJd8CV",
        "outputId": "38d6be8d-f19d-45b1-929f-b95d0e1077bf"
      },
      "outputs": [
        {
          "output_type": "stream",
          "name": "stdout",
          "text": [
            "['NLTK', 'provides', 'powerfull', 'tools', 'for', 'tokenization', '.', 'It', 'includes', 'word', 'tokenization', 'and', 'sentence', 'tokenization']\n"
          ]
        }
      ],
      "source": [
        "import nltk\n",
        "from nltk.tokenize import word_tokenize ,sent_tokenize\n",
        "\n",
        "# sample tokenization text\n",
        "txt = \"NLTK provides powerfull tools for tokenization . It includes word tokenization and sentence tokenization\"\n",
        "\n",
        "# Word tokenization\n",
        "words = word_tokenize(txt)\n",
        "print(words)\n"
      ]
    },
    {
      "cell_type": "code",
      "execution_count": null,
      "metadata": {
        "colab": {
          "base_uri": "https://localhost:8080/"
        },
        "id": "tHMoPeiyd8Fd",
        "outputId": "d79f369c-4794-4e92-d871-6fca1ac9b49c"
      },
      "outputs": [
        {
          "output_type": "stream",
          "name": "stdout",
          "text": [
            "['NLTK provides powerfull tools for tokenization .', 'It includes word tokenization and sentence tokenization']\n"
          ]
        }
      ],
      "source": [
        "import nltk\n",
        "from nltk.tokenize import word_tokenize ,sent_tokenize\n",
        "\n",
        "# sample tokenization text\n",
        "txt = \"NLTK provides powerfull tools for tokenization . It includes word tokenization and sentence tokenization\"\n",
        "\n",
        "# sentence tokenization\n",
        "sentence = sent_tokenize(txt)\n",
        "print(sentence)\n"
      ]
    },
    {
      "cell_type": "code",
      "execution_count": null,
      "metadata": {
        "id": "K47w2qVxd8IN"
      },
      "outputs": [],
      "source": []
    },
    {
      "cell_type": "markdown",
      "metadata": {
        "id": "3Rdd386Zfggd"
      },
      "source": [
        "**Stop words removal** - repetative words that not carry much info and it has high freq for eg- The ,is ,a ,where ,it .etc"
      ]
    },
    {
      "cell_type": "code",
      "execution_count": null,
      "metadata": {
        "id": "z1tikV4ZfmdJ"
      },
      "outputs": [],
      "source": [
        "import nltk\n",
        "from nltk.corpus import stopwords\n",
        "from nltk.tokenize import word_tokenize ,sent_tokenize\n",
        "\n",
        "# sample tokenization text\n",
        "sentence = \"NLTK provides powerfull tools for tokenization . It includes word tokenization and sentence tokenization\""
      ]
    },
    {
      "cell_type": "code",
      "execution_count": null,
      "metadata": {
        "colab": {
          "base_uri": "https://localhost:8080/"
        },
        "id": "TrJYANbwf9Dd",
        "outputId": "109949ed-0637-46f7-a6dd-924ff3027f8e"
      },
      "outputs": [
        {
          "output_type": "stream",
          "name": "stdout",
          "text": [
            "['NLTK', 'provides', 'powerfull', 'tools', 'tokenization', '.', 'includes', 'word', 'tokenization', 'sentence', 'tokenization']\n"
          ]
        },
        {
          "output_type": "stream",
          "name": "stderr",
          "text": [
            "[nltk_data] Downloading package punkt to /root/nltk_data...\n",
            "[nltk_data]   Package punkt is already up-to-date!\n",
            "[nltk_data] Downloading package stopwords to /root/nltk_data...\n",
            "[nltk_data]   Unzipping corpora/stopwords.zip.\n"
          ]
        }
      ],
      "source": [
        "# Tokenize sentence\n",
        "nltk.download('punkt')\n",
        "nltk.download('stopwords') # Add this line to download the required resource\n",
        "words = word_tokenize(sentence)\n",
        "\n",
        "#filter out sentence stopwords\n",
        "new_sentence = [word for word in words if word.lower() not in stopwords.words('english')]\n",
        "\n",
        "print(new_sentence)"
      ]
    },
    {
      "cell_type": "code",
      "execution_count": null,
      "metadata": {
        "colab": {
          "base_uri": "https://localhost:8080/"
        },
        "id": "hhHwzaEef9GP",
        "outputId": "c468685d-f18a-4bf5-c9e6-9e31b996dced"
      },
      "outputs": [
        {
          "output_type": "stream",
          "name": "stdout",
          "text": [
            "['name', 'Chinmay', 'Keshav', 'Palshetkar', ',', 'AIML', 'enthusiat', 'currently', 'Learning', 'Gen', 'ai', 'Bootcamp']\n"
          ]
        },
        {
          "output_type": "stream",
          "name": "stderr",
          "text": [
            "[nltk_data] Downloading package punkt to /root/nltk_data...\n",
            "[nltk_data]   Package punkt is already up-to-date!\n",
            "[nltk_data] Downloading package stopwords to /root/nltk_data...\n",
            "[nltk_data]   Package stopwords is already up-to-date!\n"
          ]
        }
      ],
      "source": [
        "import nltk\n",
        "from nltk.corpus import stopwords\n",
        "from nltk.tokenize import word_tokenize ,sent_tokenize\n",
        "\n",
        "# sample tokenization text\n",
        "sentence = \"My name is Chinmay Keshav Palshetkar , I am AIML enthusiat currently Learning Gen ai Bootcamp\"\n",
        "\n",
        "# Tokenize sentence\n",
        "nltk.download('punkt')\n",
        "nltk.download('stopwords') # Add this line to download the required resource\n",
        "words = word_tokenize(sentence)\n",
        "\n",
        "#filter out sentence stopwords\n",
        "new_sentence = [word for word in words if word.lower() not in stopwords.words('english')]\n",
        "\n",
        "print(new_sentence)"
      ]
    },
    {
      "cell_type": "code",
      "execution_count": null,
      "metadata": {
        "colab": {
          "base_uri": "https://localhost:8080/"
        },
        "id": "ShgYChj8f9Il",
        "outputId": "e5125c8d-a650-4cc7-ee69-b948dca710b2"
      },
      "outputs": [
        {
          "output_type": "stream",
          "name": "stdout",
          "text": [
            "My name is Chinmay Keshav Palshetkar , I am AIML enthusiat currently Learning Gen ai Bootcamp\n",
            "['name', 'Chinmay', 'Keshav', 'Palshetkar', ',', 'AIML', 'enthusiat', 'currently', 'Learning', 'Gen', 'ai', 'Bootcamp']\n"
          ]
        }
      ],
      "source": [
        "print(sentence)\n",
        "print(new_sentence)"
      ]
    },
    {
      "cell_type": "code",
      "execution_count": null,
      "metadata": {
        "id": "OE8nr98xf9LN"
      },
      "outputs": [],
      "source": []
    },
    {
      "cell_type": "markdown",
      "metadata": {
        "id": "Z-WK9ctMiSgO"
      },
      "source": [
        "**N-grams** - Ngram preserve sequential of structure of language adding understanding and feature extraction"
      ]
    },
    {
      "cell_type": "code",
      "execution_count": null,
      "metadata": {
        "id": "9mPVucjzf9N6"
      },
      "outputs": [],
      "source": [
        "import nltk\n",
        "from nltk.tokenize import word_tokenize\n",
        "from nltk import ngrams\n"
      ]
    },
    {
      "cell_type": "code",
      "execution_count": null,
      "metadata": {
        "colab": {
          "base_uri": "https://localhost:8080/"
        },
        "id": "h12KUkMkf9Qe",
        "outputId": "187e006c-b54c-401c-e39a-a3074f538427"
      },
      "outputs": [
        {
          "output_type": "stream",
          "name": "stderr",
          "text": [
            "[nltk_data] Downloading package punkt to /root/nltk_data...\n",
            "[nltk_data]   Package punkt is already up-to-date!\n"
          ]
        },
        {
          "output_type": "execute_result",
          "data": {
            "text/plain": [
              "True"
            ]
          },
          "metadata": {},
          "execution_count": 32
        }
      ],
      "source": [
        "nltk.download('punkt')\n",
        "\n"
      ]
    },
    {
      "cell_type": "code",
      "execution_count": null,
      "metadata": {
        "id": "HBC72zXEf769"
      },
      "outputs": [],
      "source": [
        "def generate_ngrams(text, n):\n",
        "  tokens = word_tokenize(text)\n",
        "  n_grams = list(ngrams(tokens, n))\n",
        "  return n_grams"
      ]
    },
    {
      "cell_type": "code",
      "execution_count": null,
      "metadata": {
        "colab": {
          "base_uri": "https://localhost:8080/"
        },
        "id": "sbI6HuXXf7-3",
        "outputId": "1e9f31cb-a1fa-4b9d-adfb-504f58ec45b9"
      },
      "outputs": [
        {
          "output_type": "stream",
          "name": "stdout",
          "text": [
            "[('N-grams',), ('are',), ('a',), ('sequence',), ('of',), ('n',), ('items',), ('from',), ('a',), ('given',), ('sample',), ('of',), ('text',), ('on',), ('speech',)]\n"
          ]
        }
      ],
      "source": [
        "# Example text\n",
        "txt = \"N-grams are a sequence of n items from a given sample of text on speech \"\n",
        "\n",
        "unigrams = generate_ngrams(txt,1)\n",
        "bigrams = generate_ngrams(txt,2)\n",
        "trigrams = generate_ngrams(txt,3)\n",
        "print(unigrams)"
      ]
    },
    {
      "cell_type": "code",
      "execution_count": null,
      "metadata": {
        "colab": {
          "base_uri": "https://localhost:8080/"
        },
        "id": "LVqQgHhHf8B1",
        "outputId": "a7c29349-2fab-430f-d639-35179fc72ac2"
      },
      "outputs": [
        {
          "output_type": "stream",
          "name": "stdout",
          "text": [
            "[('N-grams', 'are'), ('are', 'a'), ('a', 'sequence'), ('sequence', 'of'), ('of', 'n'), ('n', 'items'), ('items', 'from'), ('from', 'a'), ('a', 'given'), ('given', 'sample'), ('sample', 'of'), ('of', 'text'), ('text', 'on'), ('on', 'speech')]\n"
          ]
        }
      ],
      "source": [
        "print(bigrams)"
      ]
    },
    {
      "cell_type": "code",
      "execution_count": null,
      "metadata": {
        "colab": {
          "base_uri": "https://localhost:8080/"
        },
        "id": "Kli4Bz_ff8G2",
        "outputId": "17c1ecf0-a3c9-40b1-f5fe-71a66d82dad4"
      },
      "outputs": [
        {
          "output_type": "stream",
          "name": "stdout",
          "text": [
            "[('N-grams', 'are', 'a'), ('are', 'a', 'sequence'), ('a', 'sequence', 'of'), ('sequence', 'of', 'n'), ('of', 'n', 'items'), ('n', 'items', 'from'), ('items', 'from', 'a'), ('from', 'a', 'given'), ('a', 'given', 'sample'), ('given', 'sample', 'of'), ('sample', 'of', 'text'), ('of', 'text', 'on'), ('text', 'on', 'speech')]\n"
          ]
        }
      ],
      "source": [
        "print(trigrams)"
      ]
    },
    {
      "cell_type": "code",
      "execution_count": null,
      "metadata": {
        "id": "_PBOZNGPf8Mn"
      },
      "outputs": [],
      "source": [
        "## link of spam ham dataset - https://www.kaggle.com/datasets/uciml/sms-spam-collection-dataset"
      ]
    },
    {
      "cell_type": "markdown",
      "metadata": {
        "id": "P_xstRwUmGww"
      },
      "source": [
        "**Vectorization of textual data** - coverting text data into numerical vectors fort ml algorithems"
      ]
    },
    {
      "cell_type": "markdown",
      "metadata": {
        "id": "sKFOI05_mz6V"
      },
      "source": [
        "**bag of words(Practicals)**"
      ]
    },
    {
      "cell_type": "code",
      "execution_count": null,
      "metadata": {
        "id": "rWBV3LEJf8Vl"
      },
      "outputs": [],
      "source": [
        "import pandas as pd\n",
        "import numpy as np\n",
        "from sklearn.model_selection import train_test_split\n",
        "from sklearn.feature_extraction.text import CountVectorizer\n",
        "from sklearn.naive_bayes import MultinomialNB\n",
        "from sklearn.metrics import accuracy_score, classification_report"
      ]
    },
    {
      "cell_type": "code",
      "execution_count": null,
      "metadata": {
        "colab": {
          "base_uri": "https://localhost:8080/",
          "height": 206
        },
        "id": "VUbmY1TuqKDG",
        "outputId": "c366c5b3-01f9-4333-837f-a11bc22ef7a2"
      },
      "outputs": [
        {
          "output_type": "execute_result",
          "data": {
            "text/plain": [
              "     v1                                                 v2 Unnamed: 2  \\\n",
              "0   ham  Go until jurong point, crazy.. Available only ...        NaN   \n",
              "1   ham                      Ok lar... Joking wif u oni...        NaN   \n",
              "2  spam  Free entry in 2 a wkly comp to win FA Cup fina...        NaN   \n",
              "3   ham  U dun say so early hor... U c already then say...        NaN   \n",
              "4   ham  Nah I don't think he goes to usf, he lives aro...        NaN   \n",
              "\n",
              "  Unnamed: 3 Unnamed: 4  \n",
              "0        NaN        NaN  \n",
              "1        NaN        NaN  \n",
              "2        NaN        NaN  \n",
              "3        NaN        NaN  \n",
              "4        NaN        NaN  "
            ],
            "text/html": [
              "\n",
              "  <div id=\"df-0a773239-7f0b-4a8d-b46b-7cb837f4209a\" class=\"colab-df-container\">\n",
              "    <div>\n",
              "<style scoped>\n",
              "    .dataframe tbody tr th:only-of-type {\n",
              "        vertical-align: middle;\n",
              "    }\n",
              "\n",
              "    .dataframe tbody tr th {\n",
              "        vertical-align: top;\n",
              "    }\n",
              "\n",
              "    .dataframe thead th {\n",
              "        text-align: right;\n",
              "    }\n",
              "</style>\n",
              "<table border=\"1\" class=\"dataframe\">\n",
              "  <thead>\n",
              "    <tr style=\"text-align: right;\">\n",
              "      <th></th>\n",
              "      <th>v1</th>\n",
              "      <th>v2</th>\n",
              "      <th>Unnamed: 2</th>\n",
              "      <th>Unnamed: 3</th>\n",
              "      <th>Unnamed: 4</th>\n",
              "    </tr>\n",
              "  </thead>\n",
              "  <tbody>\n",
              "    <tr>\n",
              "      <th>0</th>\n",
              "      <td>ham</td>\n",
              "      <td>Go until jurong point, crazy.. Available only ...</td>\n",
              "      <td>NaN</td>\n",
              "      <td>NaN</td>\n",
              "      <td>NaN</td>\n",
              "    </tr>\n",
              "    <tr>\n",
              "      <th>1</th>\n",
              "      <td>ham</td>\n",
              "      <td>Ok lar... Joking wif u oni...</td>\n",
              "      <td>NaN</td>\n",
              "      <td>NaN</td>\n",
              "      <td>NaN</td>\n",
              "    </tr>\n",
              "    <tr>\n",
              "      <th>2</th>\n",
              "      <td>spam</td>\n",
              "      <td>Free entry in 2 a wkly comp to win FA Cup fina...</td>\n",
              "      <td>NaN</td>\n",
              "      <td>NaN</td>\n",
              "      <td>NaN</td>\n",
              "    </tr>\n",
              "    <tr>\n",
              "      <th>3</th>\n",
              "      <td>ham</td>\n",
              "      <td>U dun say so early hor... U c already then say...</td>\n",
              "      <td>NaN</td>\n",
              "      <td>NaN</td>\n",
              "      <td>NaN</td>\n",
              "    </tr>\n",
              "    <tr>\n",
              "      <th>4</th>\n",
              "      <td>ham</td>\n",
              "      <td>Nah I don't think he goes to usf, he lives aro...</td>\n",
              "      <td>NaN</td>\n",
              "      <td>NaN</td>\n",
              "      <td>NaN</td>\n",
              "    </tr>\n",
              "  </tbody>\n",
              "</table>\n",
              "</div>\n",
              "    <div class=\"colab-df-buttons\">\n",
              "\n",
              "  <div class=\"colab-df-container\">\n",
              "    <button class=\"colab-df-convert\" onclick=\"convertToInteractive('df-0a773239-7f0b-4a8d-b46b-7cb837f4209a')\"\n",
              "            title=\"Convert this dataframe to an interactive table.\"\n",
              "            style=\"display:none;\">\n",
              "\n",
              "  <svg xmlns=\"http://www.w3.org/2000/svg\" height=\"24px\" viewBox=\"0 -960 960 960\">\n",
              "    <path d=\"M120-120v-720h720v720H120Zm60-500h600v-160H180v160Zm220 220h160v-160H400v160Zm0 220h160v-160H400v160ZM180-400h160v-160H180v160Zm440 0h160v-160H620v160ZM180-180h160v-160H180v160Zm440 0h160v-160H620v160Z\"/>\n",
              "  </svg>\n",
              "    </button>\n",
              "\n",
              "  <style>\n",
              "    .colab-df-container {\n",
              "      display:flex;\n",
              "      gap: 12px;\n",
              "    }\n",
              "\n",
              "    .colab-df-convert {\n",
              "      background-color: #E8F0FE;\n",
              "      border: none;\n",
              "      border-radius: 50%;\n",
              "      cursor: pointer;\n",
              "      display: none;\n",
              "      fill: #1967D2;\n",
              "      height: 32px;\n",
              "      padding: 0 0 0 0;\n",
              "      width: 32px;\n",
              "    }\n",
              "\n",
              "    .colab-df-convert:hover {\n",
              "      background-color: #E2EBFA;\n",
              "      box-shadow: 0px 1px 2px rgba(60, 64, 67, 0.3), 0px 1px 3px 1px rgba(60, 64, 67, 0.15);\n",
              "      fill: #174EA6;\n",
              "    }\n",
              "\n",
              "    .colab-df-buttons div {\n",
              "      margin-bottom: 4px;\n",
              "    }\n",
              "\n",
              "    [theme=dark] .colab-df-convert {\n",
              "      background-color: #3B4455;\n",
              "      fill: #D2E3FC;\n",
              "    }\n",
              "\n",
              "    [theme=dark] .colab-df-convert:hover {\n",
              "      background-color: #434B5C;\n",
              "      box-shadow: 0px 1px 3px 1px rgba(0, 0, 0, 0.15);\n",
              "      filter: drop-shadow(0px 1px 2px rgba(0, 0, 0, 0.3));\n",
              "      fill: #FFFFFF;\n",
              "    }\n",
              "  </style>\n",
              "\n",
              "    <script>\n",
              "      const buttonEl =\n",
              "        document.querySelector('#df-0a773239-7f0b-4a8d-b46b-7cb837f4209a button.colab-df-convert');\n",
              "      buttonEl.style.display =\n",
              "        google.colab.kernel.accessAllowed ? 'block' : 'none';\n",
              "\n",
              "      async function convertToInteractive(key) {\n",
              "        const element = document.querySelector('#df-0a773239-7f0b-4a8d-b46b-7cb837f4209a');\n",
              "        const dataTable =\n",
              "          await google.colab.kernel.invokeFunction('convertToInteractive',\n",
              "                                                    [key], {});\n",
              "        if (!dataTable) return;\n",
              "\n",
              "        const docLinkHtml = 'Like what you see? Visit the ' +\n",
              "          '<a target=\"_blank\" href=https://colab.research.google.com/notebooks/data_table.ipynb>data table notebook</a>'\n",
              "          + ' to learn more about interactive tables.';\n",
              "        element.innerHTML = '';\n",
              "        dataTable['output_type'] = 'display_data';\n",
              "        await google.colab.output.renderOutput(dataTable, element);\n",
              "        const docLink = document.createElement('div');\n",
              "        docLink.innerHTML = docLinkHtml;\n",
              "        element.appendChild(docLink);\n",
              "      }\n",
              "    </script>\n",
              "  </div>\n",
              "\n",
              "\n",
              "    <div id=\"df-7d533bef-902b-4a6c-920a-001b4c4426b0\">\n",
              "      <button class=\"colab-df-quickchart\" onclick=\"quickchart('df-7d533bef-902b-4a6c-920a-001b4c4426b0')\"\n",
              "                title=\"Suggest charts\"\n",
              "                style=\"display:none;\">\n",
              "\n",
              "<svg xmlns=\"http://www.w3.org/2000/svg\" height=\"24px\"viewBox=\"0 0 24 24\"\n",
              "     width=\"24px\">\n",
              "    <g>\n",
              "        <path d=\"M19 3H5c-1.1 0-2 .9-2 2v14c0 1.1.9 2 2 2h14c1.1 0 2-.9 2-2V5c0-1.1-.9-2-2-2zM9 17H7v-7h2v7zm4 0h-2V7h2v10zm4 0h-2v-4h2v4z\"/>\n",
              "    </g>\n",
              "</svg>\n",
              "      </button>\n",
              "\n",
              "<style>\n",
              "  .colab-df-quickchart {\n",
              "      --bg-color: #E8F0FE;\n",
              "      --fill-color: #1967D2;\n",
              "      --hover-bg-color: #E2EBFA;\n",
              "      --hover-fill-color: #174EA6;\n",
              "      --disabled-fill-color: #AAA;\n",
              "      --disabled-bg-color: #DDD;\n",
              "  }\n",
              "\n",
              "  [theme=dark] .colab-df-quickchart {\n",
              "      --bg-color: #3B4455;\n",
              "      --fill-color: #D2E3FC;\n",
              "      --hover-bg-color: #434B5C;\n",
              "      --hover-fill-color: #FFFFFF;\n",
              "      --disabled-bg-color: #3B4455;\n",
              "      --disabled-fill-color: #666;\n",
              "  }\n",
              "\n",
              "  .colab-df-quickchart {\n",
              "    background-color: var(--bg-color);\n",
              "    border: none;\n",
              "    border-radius: 50%;\n",
              "    cursor: pointer;\n",
              "    display: none;\n",
              "    fill: var(--fill-color);\n",
              "    height: 32px;\n",
              "    padding: 0;\n",
              "    width: 32px;\n",
              "  }\n",
              "\n",
              "  .colab-df-quickchart:hover {\n",
              "    background-color: var(--hover-bg-color);\n",
              "    box-shadow: 0 1px 2px rgba(60, 64, 67, 0.3), 0 1px 3px 1px rgba(60, 64, 67, 0.15);\n",
              "    fill: var(--button-hover-fill-color);\n",
              "  }\n",
              "\n",
              "  .colab-df-quickchart-complete:disabled,\n",
              "  .colab-df-quickchart-complete:disabled:hover {\n",
              "    background-color: var(--disabled-bg-color);\n",
              "    fill: var(--disabled-fill-color);\n",
              "    box-shadow: none;\n",
              "  }\n",
              "\n",
              "  .colab-df-spinner {\n",
              "    border: 2px solid var(--fill-color);\n",
              "    border-color: transparent;\n",
              "    border-bottom-color: var(--fill-color);\n",
              "    animation:\n",
              "      spin 1s steps(1) infinite;\n",
              "  }\n",
              "\n",
              "  @keyframes spin {\n",
              "    0% {\n",
              "      border-color: transparent;\n",
              "      border-bottom-color: var(--fill-color);\n",
              "      border-left-color: var(--fill-color);\n",
              "    }\n",
              "    20% {\n",
              "      border-color: transparent;\n",
              "      border-left-color: var(--fill-color);\n",
              "      border-top-color: var(--fill-color);\n",
              "    }\n",
              "    30% {\n",
              "      border-color: transparent;\n",
              "      border-left-color: var(--fill-color);\n",
              "      border-top-color: var(--fill-color);\n",
              "      border-right-color: var(--fill-color);\n",
              "    }\n",
              "    40% {\n",
              "      border-color: transparent;\n",
              "      border-right-color: var(--fill-color);\n",
              "      border-top-color: var(--fill-color);\n",
              "    }\n",
              "    60% {\n",
              "      border-color: transparent;\n",
              "      border-right-color: var(--fill-color);\n",
              "    }\n",
              "    80% {\n",
              "      border-color: transparent;\n",
              "      border-right-color: var(--fill-color);\n",
              "      border-bottom-color: var(--fill-color);\n",
              "    }\n",
              "    90% {\n",
              "      border-color: transparent;\n",
              "      border-bottom-color: var(--fill-color);\n",
              "    }\n",
              "  }\n",
              "</style>\n",
              "\n",
              "      <script>\n",
              "        async function quickchart(key) {\n",
              "          const quickchartButtonEl =\n",
              "            document.querySelector('#' + key + ' button');\n",
              "          quickchartButtonEl.disabled = true;  // To prevent multiple clicks.\n",
              "          quickchartButtonEl.classList.add('colab-df-spinner');\n",
              "          try {\n",
              "            const charts = await google.colab.kernel.invokeFunction(\n",
              "                'suggestCharts', [key], {});\n",
              "          } catch (error) {\n",
              "            console.error('Error during call to suggestCharts:', error);\n",
              "          }\n",
              "          quickchartButtonEl.classList.remove('colab-df-spinner');\n",
              "          quickchartButtonEl.classList.add('colab-df-quickchart-complete');\n",
              "        }\n",
              "        (() => {\n",
              "          let quickchartButtonEl =\n",
              "            document.querySelector('#df-7d533bef-902b-4a6c-920a-001b4c4426b0 button');\n",
              "          quickchartButtonEl.style.display =\n",
              "            google.colab.kernel.accessAllowed ? 'block' : 'none';\n",
              "        })();\n",
              "      </script>\n",
              "    </div>\n",
              "\n",
              "    </div>\n",
              "  </div>\n"
            ],
            "application/vnd.google.colaboratory.intrinsic+json": {
              "type": "dataframe",
              "variable_name": "df",
              "summary": "{\n  \"name\": \"df\",\n  \"rows\": 5572,\n  \"fields\": [\n    {\n      \"column\": \"v1\",\n      \"properties\": {\n        \"dtype\": \"category\",\n        \"num_unique_values\": 2,\n        \"samples\": [\n          \"spam\",\n          \"ham\"\n        ],\n        \"semantic_type\": \"\",\n        \"description\": \"\"\n      }\n    },\n    {\n      \"column\": \"v2\",\n      \"properties\": {\n        \"dtype\": \"string\",\n        \"num_unique_values\": 5169,\n        \"samples\": [\n          \"Did u download the fring app?\",\n          \"Pass dis to all ur contacts n see wat u get! Red;i'm in luv wid u. Blue;u put a smile on my face. Purple;u r realy hot. Pink;u r so swt. Orange;i thnk i lyk u. Green;i realy wana go out wid u. Yelow;i wnt u bck. Black;i'm jealous of u. Brown;i miss you Nw plz giv me one color\"\n        ],\n        \"semantic_type\": \"\",\n        \"description\": \"\"\n      }\n    },\n    {\n      \"column\": \"Unnamed: 2\",\n      \"properties\": {\n        \"dtype\": \"category\",\n        \"num_unique_values\": 43,\n        \"samples\": [\n          \" GOD said\",\n          \" SHE SHUDVETOLD U. DID URGRAN KNOW?NEWAY\"\n        ],\n        \"semantic_type\": \"\",\n        \"description\": \"\"\n      }\n    },\n    {\n      \"column\": \"Unnamed: 3\",\n      \"properties\": {\n        \"dtype\": \"category\",\n        \"num_unique_values\": 10,\n        \"samples\": [\n          \" \\\\\\\"OH No! COMPETITION\\\\\\\". Who knew\",\n          \" why to miss them\"\n        ],\n        \"semantic_type\": \"\",\n        \"description\": \"\"\n      }\n    },\n    {\n      \"column\": \"Unnamed: 4\",\n      \"properties\": {\n        \"dtype\": \"category\",\n        \"num_unique_values\": 5,\n        \"samples\": [\n          \"GNT:-)\\\"\",\n          \" one day these two will become FREINDS FOREVER!\\\"\"\n        ],\n        \"semantic_type\": \"\",\n        \"description\": \"\"\n      }\n    }\n  ]\n}"
            }
          },
          "metadata": {},
          "execution_count": 40
        }
      ],
      "source": [
        "import pandas as pd\n",
        "\n",
        "df = pd.read_csv(\"sample_data/spam.csv\", encoding='latin1')\n",
        "df.head()\n"
      ]
    },
    {
      "cell_type": "code",
      "source": [
        "df.drop(['Unnamed: 2','Unnamed: 3','Unnamed: 4'], axis=1, inplace=True)"
      ],
      "metadata": {
        "id": "D6UShi2cQmyb"
      },
      "execution_count": null,
      "outputs": []
    },
    {
      "cell_type": "code",
      "source": [
        "df.head()"
      ],
      "metadata": {
        "colab": {
          "base_uri": "https://localhost:8080/",
          "height": 206
        },
        "id": "Rt_ScW0aQm0n",
        "outputId": "ac807449-d860-4cd9-e6fb-39d5dacefb57"
      },
      "execution_count": null,
      "outputs": [
        {
          "output_type": "execute_result",
          "data": {
            "text/plain": [
              "     v1                                                 v2\n",
              "0   ham  Go until jurong point, crazy.. Available only ...\n",
              "1   ham                      Ok lar... Joking wif u oni...\n",
              "2  spam  Free entry in 2 a wkly comp to win FA Cup fina...\n",
              "3   ham  U dun say so early hor... U c already then say...\n",
              "4   ham  Nah I don't think he goes to usf, he lives aro..."
            ],
            "text/html": [
              "\n",
              "  <div id=\"df-645c91d6-da82-4ed6-a3c6-699c7fb56f67\" class=\"colab-df-container\">\n",
              "    <div>\n",
              "<style scoped>\n",
              "    .dataframe tbody tr th:only-of-type {\n",
              "        vertical-align: middle;\n",
              "    }\n",
              "\n",
              "    .dataframe tbody tr th {\n",
              "        vertical-align: top;\n",
              "    }\n",
              "\n",
              "    .dataframe thead th {\n",
              "        text-align: right;\n",
              "    }\n",
              "</style>\n",
              "<table border=\"1\" class=\"dataframe\">\n",
              "  <thead>\n",
              "    <tr style=\"text-align: right;\">\n",
              "      <th></th>\n",
              "      <th>v1</th>\n",
              "      <th>v2</th>\n",
              "    </tr>\n",
              "  </thead>\n",
              "  <tbody>\n",
              "    <tr>\n",
              "      <th>0</th>\n",
              "      <td>ham</td>\n",
              "      <td>Go until jurong point, crazy.. Available only ...</td>\n",
              "    </tr>\n",
              "    <tr>\n",
              "      <th>1</th>\n",
              "      <td>ham</td>\n",
              "      <td>Ok lar... Joking wif u oni...</td>\n",
              "    </tr>\n",
              "    <tr>\n",
              "      <th>2</th>\n",
              "      <td>spam</td>\n",
              "      <td>Free entry in 2 a wkly comp to win FA Cup fina...</td>\n",
              "    </tr>\n",
              "    <tr>\n",
              "      <th>3</th>\n",
              "      <td>ham</td>\n",
              "      <td>U dun say so early hor... U c already then say...</td>\n",
              "    </tr>\n",
              "    <tr>\n",
              "      <th>4</th>\n",
              "      <td>ham</td>\n",
              "      <td>Nah I don't think he goes to usf, he lives aro...</td>\n",
              "    </tr>\n",
              "  </tbody>\n",
              "</table>\n",
              "</div>\n",
              "    <div class=\"colab-df-buttons\">\n",
              "\n",
              "  <div class=\"colab-df-container\">\n",
              "    <button class=\"colab-df-convert\" onclick=\"convertToInteractive('df-645c91d6-da82-4ed6-a3c6-699c7fb56f67')\"\n",
              "            title=\"Convert this dataframe to an interactive table.\"\n",
              "            style=\"display:none;\">\n",
              "\n",
              "  <svg xmlns=\"http://www.w3.org/2000/svg\" height=\"24px\" viewBox=\"0 -960 960 960\">\n",
              "    <path d=\"M120-120v-720h720v720H120Zm60-500h600v-160H180v160Zm220 220h160v-160H400v160Zm0 220h160v-160H400v160ZM180-400h160v-160H180v160Zm440 0h160v-160H620v160ZM180-180h160v-160H180v160Zm440 0h160v-160H620v160Z\"/>\n",
              "  </svg>\n",
              "    </button>\n",
              "\n",
              "  <style>\n",
              "    .colab-df-container {\n",
              "      display:flex;\n",
              "      gap: 12px;\n",
              "    }\n",
              "\n",
              "    .colab-df-convert {\n",
              "      background-color: #E8F0FE;\n",
              "      border: none;\n",
              "      border-radius: 50%;\n",
              "      cursor: pointer;\n",
              "      display: none;\n",
              "      fill: #1967D2;\n",
              "      height: 32px;\n",
              "      padding: 0 0 0 0;\n",
              "      width: 32px;\n",
              "    }\n",
              "\n",
              "    .colab-df-convert:hover {\n",
              "      background-color: #E2EBFA;\n",
              "      box-shadow: 0px 1px 2px rgba(60, 64, 67, 0.3), 0px 1px 3px 1px rgba(60, 64, 67, 0.15);\n",
              "      fill: #174EA6;\n",
              "    }\n",
              "\n",
              "    .colab-df-buttons div {\n",
              "      margin-bottom: 4px;\n",
              "    }\n",
              "\n",
              "    [theme=dark] .colab-df-convert {\n",
              "      background-color: #3B4455;\n",
              "      fill: #D2E3FC;\n",
              "    }\n",
              "\n",
              "    [theme=dark] .colab-df-convert:hover {\n",
              "      background-color: #434B5C;\n",
              "      box-shadow: 0px 1px 3px 1px rgba(0, 0, 0, 0.15);\n",
              "      filter: drop-shadow(0px 1px 2px rgba(0, 0, 0, 0.3));\n",
              "      fill: #FFFFFF;\n",
              "    }\n",
              "  </style>\n",
              "\n",
              "    <script>\n",
              "      const buttonEl =\n",
              "        document.querySelector('#df-645c91d6-da82-4ed6-a3c6-699c7fb56f67 button.colab-df-convert');\n",
              "      buttonEl.style.display =\n",
              "        google.colab.kernel.accessAllowed ? 'block' : 'none';\n",
              "\n",
              "      async function convertToInteractive(key) {\n",
              "        const element = document.querySelector('#df-645c91d6-da82-4ed6-a3c6-699c7fb56f67');\n",
              "        const dataTable =\n",
              "          await google.colab.kernel.invokeFunction('convertToInteractive',\n",
              "                                                    [key], {});\n",
              "        if (!dataTable) return;\n",
              "\n",
              "        const docLinkHtml = 'Like what you see? Visit the ' +\n",
              "          '<a target=\"_blank\" href=https://colab.research.google.com/notebooks/data_table.ipynb>data table notebook</a>'\n",
              "          + ' to learn more about interactive tables.';\n",
              "        element.innerHTML = '';\n",
              "        dataTable['output_type'] = 'display_data';\n",
              "        await google.colab.output.renderOutput(dataTable, element);\n",
              "        const docLink = document.createElement('div');\n",
              "        docLink.innerHTML = docLinkHtml;\n",
              "        element.appendChild(docLink);\n",
              "      }\n",
              "    </script>\n",
              "  </div>\n",
              "\n",
              "\n",
              "    <div id=\"df-3afc3a7f-b023-4238-a4db-99980fe41a8f\">\n",
              "      <button class=\"colab-df-quickchart\" onclick=\"quickchart('df-3afc3a7f-b023-4238-a4db-99980fe41a8f')\"\n",
              "                title=\"Suggest charts\"\n",
              "                style=\"display:none;\">\n",
              "\n",
              "<svg xmlns=\"http://www.w3.org/2000/svg\" height=\"24px\"viewBox=\"0 0 24 24\"\n",
              "     width=\"24px\">\n",
              "    <g>\n",
              "        <path d=\"M19 3H5c-1.1 0-2 .9-2 2v14c0 1.1.9 2 2 2h14c1.1 0 2-.9 2-2V5c0-1.1-.9-2-2-2zM9 17H7v-7h2v7zm4 0h-2V7h2v10zm4 0h-2v-4h2v4z\"/>\n",
              "    </g>\n",
              "</svg>\n",
              "      </button>\n",
              "\n",
              "<style>\n",
              "  .colab-df-quickchart {\n",
              "      --bg-color: #E8F0FE;\n",
              "      --fill-color: #1967D2;\n",
              "      --hover-bg-color: #E2EBFA;\n",
              "      --hover-fill-color: #174EA6;\n",
              "      --disabled-fill-color: #AAA;\n",
              "      --disabled-bg-color: #DDD;\n",
              "  }\n",
              "\n",
              "  [theme=dark] .colab-df-quickchart {\n",
              "      --bg-color: #3B4455;\n",
              "      --fill-color: #D2E3FC;\n",
              "      --hover-bg-color: #434B5C;\n",
              "      --hover-fill-color: #FFFFFF;\n",
              "      --disabled-bg-color: #3B4455;\n",
              "      --disabled-fill-color: #666;\n",
              "  }\n",
              "\n",
              "  .colab-df-quickchart {\n",
              "    background-color: var(--bg-color);\n",
              "    border: none;\n",
              "    border-radius: 50%;\n",
              "    cursor: pointer;\n",
              "    display: none;\n",
              "    fill: var(--fill-color);\n",
              "    height: 32px;\n",
              "    padding: 0;\n",
              "    width: 32px;\n",
              "  }\n",
              "\n",
              "  .colab-df-quickchart:hover {\n",
              "    background-color: var(--hover-bg-color);\n",
              "    box-shadow: 0 1px 2px rgba(60, 64, 67, 0.3), 0 1px 3px 1px rgba(60, 64, 67, 0.15);\n",
              "    fill: var(--button-hover-fill-color);\n",
              "  }\n",
              "\n",
              "  .colab-df-quickchart-complete:disabled,\n",
              "  .colab-df-quickchart-complete:disabled:hover {\n",
              "    background-color: var(--disabled-bg-color);\n",
              "    fill: var(--disabled-fill-color);\n",
              "    box-shadow: none;\n",
              "  }\n",
              "\n",
              "  .colab-df-spinner {\n",
              "    border: 2px solid var(--fill-color);\n",
              "    border-color: transparent;\n",
              "    border-bottom-color: var(--fill-color);\n",
              "    animation:\n",
              "      spin 1s steps(1) infinite;\n",
              "  }\n",
              "\n",
              "  @keyframes spin {\n",
              "    0% {\n",
              "      border-color: transparent;\n",
              "      border-bottom-color: var(--fill-color);\n",
              "      border-left-color: var(--fill-color);\n",
              "    }\n",
              "    20% {\n",
              "      border-color: transparent;\n",
              "      border-left-color: var(--fill-color);\n",
              "      border-top-color: var(--fill-color);\n",
              "    }\n",
              "    30% {\n",
              "      border-color: transparent;\n",
              "      border-left-color: var(--fill-color);\n",
              "      border-top-color: var(--fill-color);\n",
              "      border-right-color: var(--fill-color);\n",
              "    }\n",
              "    40% {\n",
              "      border-color: transparent;\n",
              "      border-right-color: var(--fill-color);\n",
              "      border-top-color: var(--fill-color);\n",
              "    }\n",
              "    60% {\n",
              "      border-color: transparent;\n",
              "      border-right-color: var(--fill-color);\n",
              "    }\n",
              "    80% {\n",
              "      border-color: transparent;\n",
              "      border-right-color: var(--fill-color);\n",
              "      border-bottom-color: var(--fill-color);\n",
              "    }\n",
              "    90% {\n",
              "      border-color: transparent;\n",
              "      border-bottom-color: var(--fill-color);\n",
              "    }\n",
              "  }\n",
              "</style>\n",
              "\n",
              "      <script>\n",
              "        async function quickchart(key) {\n",
              "          const quickchartButtonEl =\n",
              "            document.querySelector('#' + key + ' button');\n",
              "          quickchartButtonEl.disabled = true;  // To prevent multiple clicks.\n",
              "          quickchartButtonEl.classList.add('colab-df-spinner');\n",
              "          try {\n",
              "            const charts = await google.colab.kernel.invokeFunction(\n",
              "                'suggestCharts', [key], {});\n",
              "          } catch (error) {\n",
              "            console.error('Error during call to suggestCharts:', error);\n",
              "          }\n",
              "          quickchartButtonEl.classList.remove('colab-df-spinner');\n",
              "          quickchartButtonEl.classList.add('colab-df-quickchart-complete');\n",
              "        }\n",
              "        (() => {\n",
              "          let quickchartButtonEl =\n",
              "            document.querySelector('#df-3afc3a7f-b023-4238-a4db-99980fe41a8f button');\n",
              "          quickchartButtonEl.style.display =\n",
              "            google.colab.kernel.accessAllowed ? 'block' : 'none';\n",
              "        })();\n",
              "      </script>\n",
              "    </div>\n",
              "\n",
              "    </div>\n",
              "  </div>\n"
            ],
            "application/vnd.google.colaboratory.intrinsic+json": {
              "type": "dataframe",
              "variable_name": "df",
              "summary": "{\n  \"name\": \"df\",\n  \"rows\": 5572,\n  \"fields\": [\n    {\n      \"column\": \"v1\",\n      \"properties\": {\n        \"dtype\": \"category\",\n        \"num_unique_values\": 2,\n        \"samples\": [\n          \"spam\",\n          \"ham\"\n        ],\n        \"semantic_type\": \"\",\n        \"description\": \"\"\n      }\n    },\n    {\n      \"column\": \"v2\",\n      \"properties\": {\n        \"dtype\": \"string\",\n        \"num_unique_values\": 5169,\n        \"samples\": [\n          \"Did u download the fring app?\",\n          \"Pass dis to all ur contacts n see wat u get! Red;i'm in luv wid u. Blue;u put a smile on my face. Purple;u r realy hot. Pink;u r so swt. Orange;i thnk i lyk u. Green;i realy wana go out wid u. Yelow;i wnt u bck. Black;i'm jealous of u. Brown;i miss you Nw plz giv me one color\"\n        ],\n        \"semantic_type\": \"\",\n        \"description\": \"\"\n      }\n    }\n  ]\n}"
            }
          },
          "metadata": {},
          "execution_count": 42
        }
      ]
    },
    {
      "cell_type": "code",
      "source": [
        "df.columns\n"
      ],
      "metadata": {
        "colab": {
          "base_uri": "https://localhost:8080/"
        },
        "id": "fwla6ubIQm24",
        "outputId": "e1d79f4d-6250-4dc9-9517-06b9e793f74c"
      },
      "execution_count": null,
      "outputs": [
        {
          "output_type": "execute_result",
          "data": {
            "text/plain": [
              "Index(['v1', 'v2'], dtype='object')"
            ]
          },
          "metadata": {},
          "execution_count": 46
        }
      ]
    },
    {
      "cell_type": "code",
      "source": [
        "df.columns = ['Category', 'Message']\n"
      ],
      "metadata": {
        "id": "38AiV3PoRap_"
      },
      "execution_count": null,
      "outputs": []
    },
    {
      "cell_type": "code",
      "source": [
        "df['Category'].value_counts()\n"
      ],
      "metadata": {
        "colab": {
          "base_uri": "https://localhost:8080/",
          "height": 178
        },
        "id": "QBk0XHuqQm5K",
        "outputId": "701a12b0-dbdc-4f20-c40b-184a23b44456"
      },
      "execution_count": null,
      "outputs": [
        {
          "output_type": "execute_result",
          "data": {
            "text/plain": [
              "Category\n",
              "ham     4825\n",
              "spam     747\n",
              "Name: count, dtype: int64"
            ],
            "text/html": [
              "<div>\n",
              "<style scoped>\n",
              "    .dataframe tbody tr th:only-of-type {\n",
              "        vertical-align: middle;\n",
              "    }\n",
              "\n",
              "    .dataframe tbody tr th {\n",
              "        vertical-align: top;\n",
              "    }\n",
              "\n",
              "    .dataframe thead th {\n",
              "        text-align: right;\n",
              "    }\n",
              "</style>\n",
              "<table border=\"1\" class=\"dataframe\">\n",
              "  <thead>\n",
              "    <tr style=\"text-align: right;\">\n",
              "      <th></th>\n",
              "      <th>count</th>\n",
              "    </tr>\n",
              "    <tr>\n",
              "      <th>Category</th>\n",
              "      <th></th>\n",
              "    </tr>\n",
              "  </thead>\n",
              "  <tbody>\n",
              "    <tr>\n",
              "      <th>ham</th>\n",
              "      <td>4825</td>\n",
              "    </tr>\n",
              "    <tr>\n",
              "      <th>spam</th>\n",
              "      <td>747</td>\n",
              "    </tr>\n",
              "  </tbody>\n",
              "</table>\n",
              "</div><br><label><b>dtype:</b> int64</label>"
            ]
          },
          "metadata": {},
          "execution_count": 48
        }
      ]
    },
    {
      "cell_type": "code",
      "source": [
        "df['Category'].value_counts()/len(df)*100"
      ],
      "metadata": {
        "colab": {
          "base_uri": "https://localhost:8080/",
          "height": 178
        },
        "id": "OaTMHzRLQm7V",
        "outputId": "b45083e5-da8c-4d1f-e067-6cdf29885fb2"
      },
      "execution_count": null,
      "outputs": [
        {
          "output_type": "execute_result",
          "data": {
            "text/plain": [
              "Category\n",
              "ham     86.593683\n",
              "spam    13.406317\n",
              "Name: count, dtype: float64"
            ],
            "text/html": [
              "<div>\n",
              "<style scoped>\n",
              "    .dataframe tbody tr th:only-of-type {\n",
              "        vertical-align: middle;\n",
              "    }\n",
              "\n",
              "    .dataframe tbody tr th {\n",
              "        vertical-align: top;\n",
              "    }\n",
              "\n",
              "    .dataframe thead th {\n",
              "        text-align: right;\n",
              "    }\n",
              "</style>\n",
              "<table border=\"1\" class=\"dataframe\">\n",
              "  <thead>\n",
              "    <tr style=\"text-align: right;\">\n",
              "      <th></th>\n",
              "      <th>count</th>\n",
              "    </tr>\n",
              "    <tr>\n",
              "      <th>Category</th>\n",
              "      <th></th>\n",
              "    </tr>\n",
              "  </thead>\n",
              "  <tbody>\n",
              "    <tr>\n",
              "      <th>ham</th>\n",
              "      <td>86.593683</td>\n",
              "    </tr>\n",
              "    <tr>\n",
              "      <th>spam</th>\n",
              "      <td>13.406317</td>\n",
              "    </tr>\n",
              "  </tbody>\n",
              "</table>\n",
              "</div><br><label><b>dtype:</b> float64</label>"
            ]
          },
          "metadata": {},
          "execution_count": 49
        }
      ]
    },
    {
      "cell_type": "code",
      "source": [
        "df['spam']=df['Category'].apply(lambda x: 1 if x=='spam' else 0)"
      ],
      "metadata": {
        "id": "HdY6k2cdQm9w"
      },
      "execution_count": null,
      "outputs": []
    },
    {
      "cell_type": "code",
      "source": [
        "df.head()\n"
      ],
      "metadata": {
        "colab": {
          "base_uri": "https://localhost:8080/",
          "height": 206
        },
        "id": "2OTiVrLFQm_3",
        "outputId": "7d448298-dd89-40f0-f4fe-cdd744cf1877"
      },
      "execution_count": null,
      "outputs": [
        {
          "output_type": "execute_result",
          "data": {
            "text/plain": [
              "  Category                                            Message  spam\n",
              "0      ham  Go until jurong point, crazy.. Available only ...     0\n",
              "1      ham                      Ok lar... Joking wif u oni...     0\n",
              "2     spam  Free entry in 2 a wkly comp to win FA Cup fina...     1\n",
              "3      ham  U dun say so early hor... U c already then say...     0\n",
              "4      ham  Nah I don't think he goes to usf, he lives aro...     0"
            ],
            "text/html": [
              "\n",
              "  <div id=\"df-d2286c53-e59f-46e4-b997-b66d3c918d54\" class=\"colab-df-container\">\n",
              "    <div>\n",
              "<style scoped>\n",
              "    .dataframe tbody tr th:only-of-type {\n",
              "        vertical-align: middle;\n",
              "    }\n",
              "\n",
              "    .dataframe tbody tr th {\n",
              "        vertical-align: top;\n",
              "    }\n",
              "\n",
              "    .dataframe thead th {\n",
              "        text-align: right;\n",
              "    }\n",
              "</style>\n",
              "<table border=\"1\" class=\"dataframe\">\n",
              "  <thead>\n",
              "    <tr style=\"text-align: right;\">\n",
              "      <th></th>\n",
              "      <th>Category</th>\n",
              "      <th>Message</th>\n",
              "      <th>spam</th>\n",
              "    </tr>\n",
              "  </thead>\n",
              "  <tbody>\n",
              "    <tr>\n",
              "      <th>0</th>\n",
              "      <td>ham</td>\n",
              "      <td>Go until jurong point, crazy.. Available only ...</td>\n",
              "      <td>0</td>\n",
              "    </tr>\n",
              "    <tr>\n",
              "      <th>1</th>\n",
              "      <td>ham</td>\n",
              "      <td>Ok lar... Joking wif u oni...</td>\n",
              "      <td>0</td>\n",
              "    </tr>\n",
              "    <tr>\n",
              "      <th>2</th>\n",
              "      <td>spam</td>\n",
              "      <td>Free entry in 2 a wkly comp to win FA Cup fina...</td>\n",
              "      <td>1</td>\n",
              "    </tr>\n",
              "    <tr>\n",
              "      <th>3</th>\n",
              "      <td>ham</td>\n",
              "      <td>U dun say so early hor... U c already then say...</td>\n",
              "      <td>0</td>\n",
              "    </tr>\n",
              "    <tr>\n",
              "      <th>4</th>\n",
              "      <td>ham</td>\n",
              "      <td>Nah I don't think he goes to usf, he lives aro...</td>\n",
              "      <td>0</td>\n",
              "    </tr>\n",
              "  </tbody>\n",
              "</table>\n",
              "</div>\n",
              "    <div class=\"colab-df-buttons\">\n",
              "\n",
              "  <div class=\"colab-df-container\">\n",
              "    <button class=\"colab-df-convert\" onclick=\"convertToInteractive('df-d2286c53-e59f-46e4-b997-b66d3c918d54')\"\n",
              "            title=\"Convert this dataframe to an interactive table.\"\n",
              "            style=\"display:none;\">\n",
              "\n",
              "  <svg xmlns=\"http://www.w3.org/2000/svg\" height=\"24px\" viewBox=\"0 -960 960 960\">\n",
              "    <path d=\"M120-120v-720h720v720H120Zm60-500h600v-160H180v160Zm220 220h160v-160H400v160Zm0 220h160v-160H400v160ZM180-400h160v-160H180v160Zm440 0h160v-160H620v160ZM180-180h160v-160H180v160Zm440 0h160v-160H620v160Z\"/>\n",
              "  </svg>\n",
              "    </button>\n",
              "\n",
              "  <style>\n",
              "    .colab-df-container {\n",
              "      display:flex;\n",
              "      gap: 12px;\n",
              "    }\n",
              "\n",
              "    .colab-df-convert {\n",
              "      background-color: #E8F0FE;\n",
              "      border: none;\n",
              "      border-radius: 50%;\n",
              "      cursor: pointer;\n",
              "      display: none;\n",
              "      fill: #1967D2;\n",
              "      height: 32px;\n",
              "      padding: 0 0 0 0;\n",
              "      width: 32px;\n",
              "    }\n",
              "\n",
              "    .colab-df-convert:hover {\n",
              "      background-color: #E2EBFA;\n",
              "      box-shadow: 0px 1px 2px rgba(60, 64, 67, 0.3), 0px 1px 3px 1px rgba(60, 64, 67, 0.15);\n",
              "      fill: #174EA6;\n",
              "    }\n",
              "\n",
              "    .colab-df-buttons div {\n",
              "      margin-bottom: 4px;\n",
              "    }\n",
              "\n",
              "    [theme=dark] .colab-df-convert {\n",
              "      background-color: #3B4455;\n",
              "      fill: #D2E3FC;\n",
              "    }\n",
              "\n",
              "    [theme=dark] .colab-df-convert:hover {\n",
              "      background-color: #434B5C;\n",
              "      box-shadow: 0px 1px 3px 1px rgba(0, 0, 0, 0.15);\n",
              "      filter: drop-shadow(0px 1px 2px rgba(0, 0, 0, 0.3));\n",
              "      fill: #FFFFFF;\n",
              "    }\n",
              "  </style>\n",
              "\n",
              "    <script>\n",
              "      const buttonEl =\n",
              "        document.querySelector('#df-d2286c53-e59f-46e4-b997-b66d3c918d54 button.colab-df-convert');\n",
              "      buttonEl.style.display =\n",
              "        google.colab.kernel.accessAllowed ? 'block' : 'none';\n",
              "\n",
              "      async function convertToInteractive(key) {\n",
              "        const element = document.querySelector('#df-d2286c53-e59f-46e4-b997-b66d3c918d54');\n",
              "        const dataTable =\n",
              "          await google.colab.kernel.invokeFunction('convertToInteractive',\n",
              "                                                    [key], {});\n",
              "        if (!dataTable) return;\n",
              "\n",
              "        const docLinkHtml = 'Like what you see? Visit the ' +\n",
              "          '<a target=\"_blank\" href=https://colab.research.google.com/notebooks/data_table.ipynb>data table notebook</a>'\n",
              "          + ' to learn more about interactive tables.';\n",
              "        element.innerHTML = '';\n",
              "        dataTable['output_type'] = 'display_data';\n",
              "        await google.colab.output.renderOutput(dataTable, element);\n",
              "        const docLink = document.createElement('div');\n",
              "        docLink.innerHTML = docLinkHtml;\n",
              "        element.appendChild(docLink);\n",
              "      }\n",
              "    </script>\n",
              "  </div>\n",
              "\n",
              "\n",
              "    <div id=\"df-4ca04bca-9bcb-4b31-bea1-a28d5e25657d\">\n",
              "      <button class=\"colab-df-quickchart\" onclick=\"quickchart('df-4ca04bca-9bcb-4b31-bea1-a28d5e25657d')\"\n",
              "                title=\"Suggest charts\"\n",
              "                style=\"display:none;\">\n",
              "\n",
              "<svg xmlns=\"http://www.w3.org/2000/svg\" height=\"24px\"viewBox=\"0 0 24 24\"\n",
              "     width=\"24px\">\n",
              "    <g>\n",
              "        <path d=\"M19 3H5c-1.1 0-2 .9-2 2v14c0 1.1.9 2 2 2h14c1.1 0 2-.9 2-2V5c0-1.1-.9-2-2-2zM9 17H7v-7h2v7zm4 0h-2V7h2v10zm4 0h-2v-4h2v4z\"/>\n",
              "    </g>\n",
              "</svg>\n",
              "      </button>\n",
              "\n",
              "<style>\n",
              "  .colab-df-quickchart {\n",
              "      --bg-color: #E8F0FE;\n",
              "      --fill-color: #1967D2;\n",
              "      --hover-bg-color: #E2EBFA;\n",
              "      --hover-fill-color: #174EA6;\n",
              "      --disabled-fill-color: #AAA;\n",
              "      --disabled-bg-color: #DDD;\n",
              "  }\n",
              "\n",
              "  [theme=dark] .colab-df-quickchart {\n",
              "      --bg-color: #3B4455;\n",
              "      --fill-color: #D2E3FC;\n",
              "      --hover-bg-color: #434B5C;\n",
              "      --hover-fill-color: #FFFFFF;\n",
              "      --disabled-bg-color: #3B4455;\n",
              "      --disabled-fill-color: #666;\n",
              "  }\n",
              "\n",
              "  .colab-df-quickchart {\n",
              "    background-color: var(--bg-color);\n",
              "    border: none;\n",
              "    border-radius: 50%;\n",
              "    cursor: pointer;\n",
              "    display: none;\n",
              "    fill: var(--fill-color);\n",
              "    height: 32px;\n",
              "    padding: 0;\n",
              "    width: 32px;\n",
              "  }\n",
              "\n",
              "  .colab-df-quickchart:hover {\n",
              "    background-color: var(--hover-bg-color);\n",
              "    box-shadow: 0 1px 2px rgba(60, 64, 67, 0.3), 0 1px 3px 1px rgba(60, 64, 67, 0.15);\n",
              "    fill: var(--button-hover-fill-color);\n",
              "  }\n",
              "\n",
              "  .colab-df-quickchart-complete:disabled,\n",
              "  .colab-df-quickchart-complete:disabled:hover {\n",
              "    background-color: var(--disabled-bg-color);\n",
              "    fill: var(--disabled-fill-color);\n",
              "    box-shadow: none;\n",
              "  }\n",
              "\n",
              "  .colab-df-spinner {\n",
              "    border: 2px solid var(--fill-color);\n",
              "    border-color: transparent;\n",
              "    border-bottom-color: var(--fill-color);\n",
              "    animation:\n",
              "      spin 1s steps(1) infinite;\n",
              "  }\n",
              "\n",
              "  @keyframes spin {\n",
              "    0% {\n",
              "      border-color: transparent;\n",
              "      border-bottom-color: var(--fill-color);\n",
              "      border-left-color: var(--fill-color);\n",
              "    }\n",
              "    20% {\n",
              "      border-color: transparent;\n",
              "      border-left-color: var(--fill-color);\n",
              "      border-top-color: var(--fill-color);\n",
              "    }\n",
              "    30% {\n",
              "      border-color: transparent;\n",
              "      border-left-color: var(--fill-color);\n",
              "      border-top-color: var(--fill-color);\n",
              "      border-right-color: var(--fill-color);\n",
              "    }\n",
              "    40% {\n",
              "      border-color: transparent;\n",
              "      border-right-color: var(--fill-color);\n",
              "      border-top-color: var(--fill-color);\n",
              "    }\n",
              "    60% {\n",
              "      border-color: transparent;\n",
              "      border-right-color: var(--fill-color);\n",
              "    }\n",
              "    80% {\n",
              "      border-color: transparent;\n",
              "      border-right-color: var(--fill-color);\n",
              "      border-bottom-color: var(--fill-color);\n",
              "    }\n",
              "    90% {\n",
              "      border-color: transparent;\n",
              "      border-bottom-color: var(--fill-color);\n",
              "    }\n",
              "  }\n",
              "</style>\n",
              "\n",
              "      <script>\n",
              "        async function quickchart(key) {\n",
              "          const quickchartButtonEl =\n",
              "            document.querySelector('#' + key + ' button');\n",
              "          quickchartButtonEl.disabled = true;  // To prevent multiple clicks.\n",
              "          quickchartButtonEl.classList.add('colab-df-spinner');\n",
              "          try {\n",
              "            const charts = await google.colab.kernel.invokeFunction(\n",
              "                'suggestCharts', [key], {});\n",
              "          } catch (error) {\n",
              "            console.error('Error during call to suggestCharts:', error);\n",
              "          }\n",
              "          quickchartButtonEl.classList.remove('colab-df-spinner');\n",
              "          quickchartButtonEl.classList.add('colab-df-quickchart-complete');\n",
              "        }\n",
              "        (() => {\n",
              "          let quickchartButtonEl =\n",
              "            document.querySelector('#df-4ca04bca-9bcb-4b31-bea1-a28d5e25657d button');\n",
              "          quickchartButtonEl.style.display =\n",
              "            google.colab.kernel.accessAllowed ? 'block' : 'none';\n",
              "        })();\n",
              "      </script>\n",
              "    </div>\n",
              "\n",
              "    </div>\n",
              "  </div>\n"
            ],
            "application/vnd.google.colaboratory.intrinsic+json": {
              "type": "dataframe",
              "variable_name": "df",
              "summary": "{\n  \"name\": \"df\",\n  \"rows\": 5572,\n  \"fields\": [\n    {\n      \"column\": \"Category\",\n      \"properties\": {\n        \"dtype\": \"category\",\n        \"num_unique_values\": 2,\n        \"samples\": [\n          \"spam\",\n          \"ham\"\n        ],\n        \"semantic_type\": \"\",\n        \"description\": \"\"\n      }\n    },\n    {\n      \"column\": \"Message\",\n      \"properties\": {\n        \"dtype\": \"string\",\n        \"num_unique_values\": 5169,\n        \"samples\": [\n          \"Did u download the fring app?\",\n          \"Pass dis to all ur contacts n see wat u get! Red;i'm in luv wid u. Blue;u put a smile on my face. Purple;u r realy hot. Pink;u r so swt. Orange;i thnk i lyk u. Green;i realy wana go out wid u. Yelow;i wnt u bck. Black;i'm jealous of u. Brown;i miss you Nw plz giv me one color\"\n        ],\n        \"semantic_type\": \"\",\n        \"description\": \"\"\n      }\n    },\n    {\n      \"column\": \"spam\",\n      \"properties\": {\n        \"dtype\": \"number\",\n        \"std\": 0,\n        \"min\": 0,\n        \"max\": 1,\n        \"num_unique_values\": 2,\n        \"samples\": [\n          1,\n          0\n        ],\n        \"semantic_type\": \"\",\n        \"description\": \"\"\n      }\n    }\n  ]\n}"
            }
          },
          "metadata": {},
          "execution_count": 51
        }
      ]
    },
    {
      "cell_type": "code",
      "source": [
        "df.shape"
      ],
      "metadata": {
        "colab": {
          "base_uri": "https://localhost:8080/"
        },
        "id": "ZOThwOeIQnDN",
        "outputId": "bac0c21f-88a4-4c51-8bba-b6b88fc4880a"
      },
      "execution_count": null,
      "outputs": [
        {
          "output_type": "execute_result",
          "data": {
            "text/plain": [
              "(5572, 3)"
            ]
          },
          "metadata": {},
          "execution_count": 53
        }
      ]
    },
    {
      "cell_type": "code",
      "source": [
        "x_train, x_test, y_train, y_test = train_test_split(df.Message, df.spam, test_size=0.25) #x-message y-spam"
      ],
      "metadata": {
        "id": "Pmd9s-YGScaI"
      },
      "execution_count": null,
      "outputs": []
    },
    {
      "cell_type": "code",
      "source": [
        "x_train.shape"
      ],
      "metadata": {
        "colab": {
          "base_uri": "https://localhost:8080/"
        },
        "id": "QiIWb1zPSrmB",
        "outputId": "cd36ed1e-2823-44e6-99ef-8d689d360a93"
      },
      "execution_count": null,
      "outputs": [
        {
          "output_type": "execute_result",
          "data": {
            "text/plain": [
              "(4179,)"
            ]
          },
          "metadata": {},
          "execution_count": 58
        }
      ]
    },
    {
      "cell_type": "code",
      "source": [
        "x_test.shape"
      ],
      "metadata": {
        "colab": {
          "base_uri": "https://localhost:8080/"
        },
        "id": "SeN1ZyaFSroA",
        "outputId": "b6338e07-94bc-4c93-8a2d-45dc9f49c2d4"
      },
      "execution_count": null,
      "outputs": [
        {
          "output_type": "execute_result",
          "data": {
            "text/plain": [
              "(1393,)"
            ]
          },
          "metadata": {},
          "execution_count": 59
        }
      ]
    },
    {
      "cell_type": "code",
      "source": [
        "x_train, x_test, y_train, y_test = train_test_split(df.Message, df.spam, test_size=0.2)"
      ],
      "metadata": {
        "id": "2dxqfWydSrqN"
      },
      "execution_count": null,
      "outputs": []
    },
    {
      "cell_type": "code",
      "source": [
        "x_train.shape,x_test.shape"
      ],
      "metadata": {
        "colab": {
          "base_uri": "https://localhost:8080/"
        },
        "id": "9O45AeOESrsk",
        "outputId": "e2031fbd-b7e1-4590-b40e-33fceae1ad5c"
      },
      "execution_count": null,
      "outputs": [
        {
          "output_type": "execute_result",
          "data": {
            "text/plain": [
              "((4457,), (1115,))"
            ]
          },
          "metadata": {},
          "execution_count": 61
        }
      ]
    },
    {
      "cell_type": "code",
      "source": [
        "x_train[:4]"
      ],
      "metadata": {
        "colab": {
          "base_uri": "https://localhost:8080/",
          "height": 209
        },
        "id": "pkMpXHkUSrvD",
        "outputId": "4156d94f-0159-4f08-dd4a-d64d05ce513d"
      },
      "execution_count": null,
      "outputs": [
        {
          "output_type": "execute_result",
          "data": {
            "text/plain": [
              "4325                     That seems unnecessarily hostile\n",
              "3873       No. Did you multimedia message them or e-mail?\n",
              "4629            Everybody had fun this evening. Miss you.\n",
              "2998    Oh, then your phone phoned me but it disconnected\n",
              "Name: Message, dtype: object"
            ],
            "text/html": [
              "<div>\n",
              "<style scoped>\n",
              "    .dataframe tbody tr th:only-of-type {\n",
              "        vertical-align: middle;\n",
              "    }\n",
              "\n",
              "    .dataframe tbody tr th {\n",
              "        vertical-align: top;\n",
              "    }\n",
              "\n",
              "    .dataframe thead th {\n",
              "        text-align: right;\n",
              "    }\n",
              "</style>\n",
              "<table border=\"1\" class=\"dataframe\">\n",
              "  <thead>\n",
              "    <tr style=\"text-align: right;\">\n",
              "      <th></th>\n",
              "      <th>Message</th>\n",
              "    </tr>\n",
              "  </thead>\n",
              "  <tbody>\n",
              "    <tr>\n",
              "      <th>4325</th>\n",
              "      <td>That seems unnecessarily hostile</td>\n",
              "    </tr>\n",
              "    <tr>\n",
              "      <th>3873</th>\n",
              "      <td>No. Did you multimedia message them or e-mail?</td>\n",
              "    </tr>\n",
              "    <tr>\n",
              "      <th>4629</th>\n",
              "      <td>Everybody had fun this evening. Miss you.</td>\n",
              "    </tr>\n",
              "    <tr>\n",
              "      <th>2998</th>\n",
              "      <td>Oh, then your phone phoned me but it disconnected</td>\n",
              "    </tr>\n",
              "  </tbody>\n",
              "</table>\n",
              "</div><br><label><b>dtype:</b> object</label>"
            ]
          },
          "metadata": {},
          "execution_count": 62
        }
      ]
    },
    {
      "cell_type": "code",
      "source": [
        "y_train[:4]"
      ],
      "metadata": {
        "colab": {
          "base_uri": "https://localhost:8080/",
          "height": 209
        },
        "id": "w9hTWQ5CSrxH",
        "outputId": "97f6a3f0-7bd5-4290-acf4-de136fdcecf6"
      },
      "execution_count": null,
      "outputs": [
        {
          "output_type": "execute_result",
          "data": {
            "text/plain": [
              "4325    0\n",
              "3873    0\n",
              "4629    0\n",
              "2998    0\n",
              "Name: spam, dtype: int64"
            ],
            "text/html": [
              "<div>\n",
              "<style scoped>\n",
              "    .dataframe tbody tr th:only-of-type {\n",
              "        vertical-align: middle;\n",
              "    }\n",
              "\n",
              "    .dataframe tbody tr th {\n",
              "        vertical-align: top;\n",
              "    }\n",
              "\n",
              "    .dataframe thead th {\n",
              "        text-align: right;\n",
              "    }\n",
              "</style>\n",
              "<table border=\"1\" class=\"dataframe\">\n",
              "  <thead>\n",
              "    <tr style=\"text-align: right;\">\n",
              "      <th></th>\n",
              "      <th>spam</th>\n",
              "    </tr>\n",
              "  </thead>\n",
              "  <tbody>\n",
              "    <tr>\n",
              "      <th>4325</th>\n",
              "      <td>0</td>\n",
              "    </tr>\n",
              "    <tr>\n",
              "      <th>3873</th>\n",
              "      <td>0</td>\n",
              "    </tr>\n",
              "    <tr>\n",
              "      <th>4629</th>\n",
              "      <td>0</td>\n",
              "    </tr>\n",
              "    <tr>\n",
              "      <th>2998</th>\n",
              "      <td>0</td>\n",
              "    </tr>\n",
              "  </tbody>\n",
              "</table>\n",
              "</div><br><label><b>dtype:</b> int64</label>"
            ]
          },
          "metadata": {},
          "execution_count": 63
        }
      ]
    },
    {
      "cell_type": "code",
      "source": [
        "# create bag of words using count vectorization\n"
      ],
      "metadata": {
        "id": "zixsSQjdSr2L"
      },
      "execution_count": null,
      "outputs": []
    },
    {
      "cell_type": "markdown",
      "source": [
        "**create bag of words using count vectorization**"
      ],
      "metadata": {
        "id": "ds0jId-JU0pE"
      }
    },
    {
      "cell_type": "code",
      "source": [
        "v= CountVectorizer()\n",
        "x_train_cv = v.fit_transform(x_train.values)\n",
        "x_test_cv = v.transform(x_test)\n",
        "x_train_cv"
      ],
      "metadata": {
        "colab": {
          "base_uri": "https://localhost:8080/"
        },
        "id": "q-ef6h-lU6jX",
        "outputId": "094d580e-ecd8-4b4a-81ae-b5a92fabbad3"
      },
      "execution_count": null,
      "outputs": [
        {
          "output_type": "execute_result",
          "data": {
            "text/plain": [
              "<Compressed Sparse Row sparse matrix of dtype 'int64'\n",
              "\twith 58843 stored elements and shape (4457, 7703)>"
            ]
          },
          "metadata": {},
          "execution_count": 78
        }
      ]
    },
    {
      "cell_type": "code",
      "source": [
        "x_train_cv.toarray()[:2][0]"
      ],
      "metadata": {
        "colab": {
          "base_uri": "https://localhost:8080/"
        },
        "id": "eB-oZfXQVTrl",
        "outputId": "4f5af715-53c5-4ee6-fdb8-43ae49104b49"
      },
      "execution_count": null,
      "outputs": [
        {
          "output_type": "execute_result",
          "data": {
            "text/plain": [
              "array([0, 0, 0, ..., 0, 0, 0])"
            ]
          },
          "metadata": {},
          "execution_count": 69
        }
      ]
    },
    {
      "cell_type": "code",
      "source": [
        "x_train_cv.shape"
      ],
      "metadata": {
        "colab": {
          "base_uri": "https://localhost:8080/"
        },
        "id": "Qg3GrhT4Vysq",
        "outputId": "deb6614b-3ca5-42c0-e50f-d628880de342"
      },
      "execution_count": null,
      "outputs": [
        {
          "output_type": "execute_result",
          "data": {
            "text/plain": [
              "(4457, 7703)"
            ]
          },
          "metadata": {},
          "execution_count": 70
        }
      ]
    },
    {
      "cell_type": "code",
      "source": [
        "#for see any specific word\n",
        "v.get_feature_names_out()[1000]"
      ],
      "metadata": {
        "colab": {
          "base_uri": "https://localhost:8080/",
          "height": 36
        },
        "id": "oEQxdO7tVyvB",
        "outputId": "3e88768d-3c30-49ee-a5d4-928a4928b64e"
      },
      "execution_count": null,
      "outputs": [
        {
          "output_type": "execute_result",
          "data": {
            "text/plain": [
              "'anythiing'"
            ],
            "application/vnd.google.colaboratory.intrinsic+json": {
              "type": "string"
            }
          },
          "metadata": {},
          "execution_count": 71
        }
      ]
    },
    {
      "cell_type": "code",
      "source": [
        "v.vocabulary_"
      ],
      "metadata": {
        "colab": {
          "base_uri": "https://localhost:8080/"
        },
        "id": "7UkxVQS2VyxQ",
        "outputId": "5b902561-9a67-4843-e0df-7b31b04fc96f"
      },
      "execution_count": null,
      "outputs": [
        {
          "output_type": "execute_result",
          "data": {
            "text/plain": [
              "{'that': 6771,\n",
              " 'seems': 5953,\n",
              " 'unnecessarily': 7130,\n",
              " 'hostile': 3500,\n",
              " 'no': 4788,\n",
              " 'did': 2296,\n",
              " 'you': 7650,\n",
              " 'multimedia': 4635,\n",
              " 'message': 4455,\n",
              " 'them': 6786,\n",
              " 'or': 4963,\n",
              " 'mail': 4315,\n",
              " 'everybody': 2673,\n",
              " 'had': 3284,\n",
              " 'fun': 3039,\n",
              " 'this': 6813,\n",
              " 'evening': 2668,\n",
              " 'miss': 4508,\n",
              " 'oh': 4903,\n",
              " 'then': 6789,\n",
              " 'your': 7655,\n",
              " 'phone': 5172,\n",
              " 'phoned': 5175,\n",
              " 'me': 4405,\n",
              " 'but': 1576,\n",
              " 'it': 3744,\n",
              " 'disconnected': 2343,\n",
              " 'each': 2498,\n",
              " 'moment': 4561,\n",
              " 'in': 3629,\n",
              " 'day': 2178,\n",
              " 'has': 3335,\n",
              " 'its': 3751,\n",
              " 'own': 5020,\n",
              " 'value': 7204,\n",
              " 'morning': 4587,\n",
              " 'brings': 1515,\n",
              " 'hope': 3483,\n",
              " 'afternoon': 854,\n",
              " 'faith': 2765,\n",
              " 'luv': 4262,\n",
              " 'night': 4769,\n",
              " 'rest': 5721,\n",
              " 'wish': 7488,\n",
              " 'find': 2854,\n",
              " 'all': 913,\n",
              " 'today': 6899,\n",
              " 'good': 3181,\n",
              " 'urgent': 7162,\n",
              " 'mobile': 4540,\n",
              " '07xxxxxxxxx': 47,\n",
              " 'won': 7524,\n",
              " '000': 1,\n",
              " 'bonus': 1432,\n",
              " 'caller': 1617,\n",
              " 'prize': 5399,\n",
              " 'on': 4925,\n",
              " '02': 8,\n",
              " '06': 20,\n",
              " '03': 14,\n",
              " 'is': 3732,\n",
              " 'the': 6777,\n",
              " '2nd': 406,\n",
              " 'attempt': 1132,\n",
              " 'to': 6893,\n",
              " 'reach': 5564,\n",
              " 'call': 1609,\n",
              " '09066362231': 230,\n",
              " 'asap': 1089,\n",
              " 'box97n7qp': 1476,\n",
              " '150ppm': 313,\n",
              " 'how': 3515,\n",
              " 'ur': 7158,\n",
              " 'paper': 5055,\n",
              " 'save': 5890,\n",
              " 'money': 4567,\n",
              " 'wedding': 7382,\n",
              " 'lingerie': 4128,\n",
              " 'at': 1121,\n",
              " 'www': 7585,\n",
              " 'bridal': 1504,\n",
              " 'petticoatdreams': 5161,\n",
              " 'co': 1873,\n",
              " 'uk': 7079,\n",
              " 'choose': 1804,\n",
              " 'from': 3019,\n",
              " 'superb': 6575,\n",
              " 'selection': 5960,\n",
              " 'with': 7495,\n",
              " 'national': 4698,\n",
              " 'delivery': 2237,\n",
              " 'brought': 1530,\n",
              " 'by': 1591,\n",
              " 'weddingfriend': 7383,\n",
              " 'pick': 5186,\n",
              " 'up': 7140,\n",
              " 'bout': 1461,\n",
              " '30ish': 434,\n",
              " 'what': 7424,\n",
              " 'time': 6863,\n",
              " 'are': 1050,\n",
              " 'and': 961,\n",
              " 'going': 3169,\n",
              " 'lol': 4179,\n",
              " 'just': 3871,\n",
              " 'was': 7341,\n",
              " 'busy': 1575,\n",
              " 'want': 7327,\n",
              " 'tell': 6716,\n",
              " 'bad': 1205,\n",
              " 'feel': 2806,\n",
              " 'basically': 1251,\n",
              " 'only': 4935,\n",
              " 'times': 6864,\n",
              " 'text': 6747,\n",
              " 'lately': 4023,\n",
              " 'when': 7431,\n",
              " 'need': 4720,\n",
              " 'drugs': 2463,\n",
              " 'long': 4185,\n",
              " 'fuckin': 3029,\n",
              " 'showr': 6095,\n",
              " 'can': 1634,\n",
              " 'pls': 5239,\n",
              " 'send': 5972,\n",
              " 'company': 1922,\n",
              " 'name': 4681,\n",
              " 'saibaba': 5850,\n",
              " 'colany': 1889,\n",
              " 'remain': 5657,\n",
              " 'unconvinced': 7099,\n",
              " 'isn': 3739,\n",
              " 'an': 957,\n",
              " 'elaborate': 2556,\n",
              " 'test': 6742,\n",
              " 'of': 4886,\n",
              " 'my': 4660,\n",
              " 'willpower': 7470,\n",
              " 'yes': 7635,\n",
              " 'innocent': 3672,\n",
              " '10': 259,\n",
              " 'mths': 4625,\n",
              " 'update': 7145,\n",
              " 'latest': 4026,\n",
              " 'camera': 1631,\n",
              " 'video': 7240,\n",
              " 'phones': 5176,\n",
              " 'for': 2933,\n",
              " 'free': 2980,\n",
              " 'keep': 3905,\n",
              " 'same': 5865,\n",
              " 'number': 4847,\n",
              " 'get': 3118,\n",
              " 'extra': 2739,\n",
              " 'mins': 4495,\n",
              " 'texts': 6758,\n",
              " 'tirunelvali': 6873,\n",
              " 'week': 7388,\n",
              " 'see': 5947,\n",
              " 'uncle': 7095,\n",
              " 'already': 924,\n",
              " 'spend': 6339,\n",
              " 'amount': 951,\n",
              " 'taking': 6655,\n",
              " 'dress': 2443,\n",
              " 'so': 6244,\n",
              " 'will': 7468,\n",
              " 'give': 3146,\n",
              " 'feb': 2802,\n",
              " 'cool': 2003,\n",
              " 'll': 4156,\n",
              " 'way': 7363,\n",
              " 'let': 4081,\n",
              " 'pool': 5287,\n",
              " 'our': 4993,\n",
              " 'together': 6902,\n",
              " 'buy': 1581,\n",
              " 'bunch': 1560,\n",
              " 'lotto': 4214,\n",
              " 'tickets': 6852,\n",
              " 'if': 3591,\n",
              " 'we': 7366,\n",
              " 'win': 7471,\n",
              " 'lt': 4244,\n",
              " 'gt': 3253,\n",
              " 'deal': 2187,\n",
              " 'god': 3164,\n",
              " 'picked': 5187,\n",
              " 'flower': 2901,\n",
              " 'dippeditinadew': 2328,\n",
              " 'lovingly': 4232,\n",
              " 'touched': 6953,\n",
              " 'itwhichturnedinto': 3753,\n",
              " 'he': 3359,\n",
              " 'gifted': 3134,\n",
              " 'tomeandsaid': 6914,\n",
              " 'friend': 3002,\n",
              " '4u': 532,\n",
              " 'billy': 1365,\n",
              " 'mates': 4380,\n",
              " 'gone': 3177,\n",
              " 'been': 1300,\n",
              " 'jogging': 3830,\n",
              " 'again': 857,\n",
              " 'enjoy': 2603,\n",
              " 'concert': 1951,\n",
              " 'doing': 2391,\n",
              " 'reverse': 5743,\n",
              " 'cheating': 1754,\n",
              " 'not': 4821,\n",
              " 'mathematics': 4383,\n",
              " 'msg': 4614,\n",
              " 'ringtone': 5765,\n",
              " 'http': 3528,\n",
              " 'tms': 6889,\n",
              " 'widelive': 7458,\n",
              " 'com': 1902,\n",
              " 'index': 3648,\n",
              " 'wml': 7513,\n",
              " 'id': 3579,\n",
              " '1b6a5ecef91ff9': 330,\n",
              " '37819': 458,\n",
              " 'first': 2870,\n",
              " 'true18': 7009,\n",
              " '0430': 16,\n",
              " 'jul': 3859,\n",
              " '05': 17,\n",
              " 'have': 3348,\n",
              " 'two': 7052,\n",
              " 'more': 4583,\n",
              " 'letters': 4084,\n",
              " 'copy': 2008,\n",
              " 'cos': 2016,\n",
              " 'one': 4930,\n",
              " 'speak': 6322,\n",
              " 'soon': 6283,\n",
              " 'okay': 4909,\n",
              " 'thought': 6824,\n",
              " 'were': 7411,\n",
              " 'expert': 2724,\n",
              " 'howz': 3521,\n",
              " 'persons': 5153,\n",
              " 'story': 6474,\n",
              " 'ok': 4908,\n",
              " 'any': 993,\n",
              " 'problem': 5405,\n",
              " 'frm': 3009,\n",
              " 'him': 3427,\n",
              " 'wats': 7358,\n",
              " 'matter': 4387,\n",
              " 'absolutely': 764,\n",
              " 'love': 4222,\n",
              " 'south': 6309,\n",
              " 'park': 5070,\n",
              " 'recently': 5604,\n",
              " 'started': 6410,\n",
              " 'watching': 7353,\n",
              " 'office': 4894,\n",
              " 'okie': 4913,\n",
              " 'thanx': 6769,\n",
              " 'like': 4109,\n",
              " 'peoples': 5128,\n",
              " 'very': 7232,\n",
              " 'much': 4632,\n",
              " 'am': 935,\n",
              " 'shy': 6106,\n",
              " 'pa': 5026,\n",
              " 'hey': 3413,\n",
              " 'mr': 4610,\n",
              " 'whats': 7426,\n",
              " 'bill': 1360,\n",
              " 'brison': 1516,\n",
              " 'book': 1435,\n",
              " 'about': 759,\n",
              " 'language': 4008,\n",
              " 'words': 7538,\n",
              " 'ke': 3903,\n",
              " 'qi': 5491,\n",
              " 'ìï': 7694,\n",
              " 'too': 6930,\n",
              " 'bored': 1446,\n",
              " 'izzit': 3763,\n",
              " 'suddenly': 6543,\n",
              " 'thk': 6814,\n",
              " 'daddy': 2144,\n",
              " 'arranging': 1075,\n",
              " 'wat': 7349,\n",
              " 'fetch': 2818,\n",
              " 'ì_': 7691,\n",
              " 'mah': 4311,\n",
              " 'damn': 2149,\n",
              " 'make': 4323,\n",
              " 'tonight': 6926,\n",
              " 'do': 2369,\n",
              " 'wait': 7303,\n",
              " 'til': 6860,\n",
              " 'tomorrow': 6917,\n",
              " 'b4u': 1189,\n",
              " 'voucher': 7279,\n",
              " '27': 377,\n",
              " 'marsms': 4364,\n",
              " 'log': 4172,\n",
              " 'onto': 4937,\n",
              " 'b4utele': 1190,\n",
              " 'discount': 2344,\n",
              " 'credit': 2069,\n",
              " 'opt': 4958,\n",
              " 'out': 4995,\n",
              " 'reply': 5690,\n",
              " 'stop': 6460,\n",
              " 'customer': 2125,\n",
              " 'care': 1657,\n",
              " '08717168528': 133,\n",
              " 'morn': 4585,\n",
              " 'aft': 852,\n",
              " 'babe': 1193,\n",
              " 'ever': 2671,\n",
              " 'figure': 2836,\n",
              " 'where': 7435,\n",
              " 'new': 4750,\n",
              " 'years': 7627,\n",
              " 'ill': 3604,\n",
              " '2mrw': 405,\n",
              " 'ninish': 4779,\n",
              " 'address': 816,\n",
              " 'icky': 3578,\n",
              " 'american': 940,\n",
              " 'freek': 2985,\n",
              " 'wont': 7531,\n",
              " 'callin': 1621,\n",
              " 'jen': 3806,\n",
              " 'eh': 2547,\n",
              " 'think': 6806,\n",
              " 'here': 3404,\n",
              " 'dear': 2191,\n",
              " 'take': 6651,\n",
              " 'reaching': 5567,\n",
              " 'home': 3467,\n",
              " 'lot': 4209,\n",
              " 'other': 4988,\n",
              " 'valentines': 7200,\n",
              " 'huh': 3536,\n",
              " 'proof': 5434,\n",
              " 'fb': 2799,\n",
              " 'page': 5033,\n",
              " 'ugh': 7074,\n",
              " 'glad': 3150,\n",
              " 'really': 5583,\n",
              " 'didn': 2297,\n",
              " 'watch': 7350,\n",
              " 'rupaul': 5829,\n",
              " 'show': 6091,\n",
              " 'tool': 6933,\n",
              " 'yeah': 7625,\n",
              " 'fine': 2856,\n",
              " 'meeting': 4425,\n",
              " 'later': 4025,\n",
              " 'railway': 5522,\n",
              " 'wylie': 7586,\n",
              " 'tampa': 6666,\n",
              " 'sarasota': 5876,\n",
              " 'okey': 4912,\n",
              " 'dokey': 2394,\n",
              " 'be': 1282,\n",
              " 'over': 5009,\n",
              " 'bit': 1378,\n",
              " 'sorting': 6296,\n",
              " 'some': 6258,\n",
              " 'stuff': 6511,\n",
              " 'phone750': 5173,\n",
              " 'anytime': 1004,\n",
              " 'network': 4743,\n",
              " '150': 307,\n",
              " 'five': 2875,\n",
              " 'pounds': 5321,\n",
              " 'per': 5129,\n",
              " '08000776320': 51,\n",
              " 'now': 4832,\n",
              " 'finished': 2861,\n",
              " 'work': 7539,\n",
              " 'yet': 7638,\n",
              " 'something': 6266,\n",
              " 'omg': 4923,\n",
              " 'scream': 5921,\n",
              " 'weighed': 7395,\n",
              " 'myself': 4665,\n",
              " 'lost': 4208,\n",
              " 'weight': 7396,\n",
              " 'woohoo': 7534,\n",
              " 'haven': 3349,\n",
              " 'eaten': 2514,\n",
              " 'sitting': 6155,\n",
              " 'staring': 6405,\n",
              " 'juicy': 3858,\n",
              " 'pizza': 5212,\n",
              " 'eat': 2513,\n",
              " 'these': 6795,\n",
              " 'meds': 4422,\n",
              " 'ruining': 5821,\n",
              " 'life': 4097,\n",
              " 'shuhui': 6103,\n",
              " 'bought': 1459,\n",
              " 'ron': 5791,\n",
              " 'present': 5371,\n",
              " 'swatch': 6611,\n",
              " 'welcome': 7402,\n",
              " 'please': 5233,\n",
              " 'age': 860,\n",
              " 'gender': 3102,\n",
              " 'begin': 1311,\n",
              " '24m': 367,\n",
              " 'even': 2667,\n",
              " 'brother': 1528,\n",
              " 'they': 6801,\n",
              " 'treat': 6989,\n",
              " 'aids': 879,\n",
              " 'patent': 5091,\n",
              " 'entry': 2622,\n",
              " 'into': 3700,\n",
              " '250': 370,\n",
              " 'weekly': 7392,\n",
              " 'comp': 1919,\n",
              " 'word': 7537,\n",
              " '80086': 646,\n",
              " '18': 324,\n",
              " 'txttowin': 7063,\n",
              " 'painful': 5038,\n",
              " 'personal': 5150,\n",
              " 'always': 933,\n",
              " 'try': 7016,\n",
              " 'happy': 3326,\n",
              " 'nobody': 4791,\n",
              " 'recognises': 5610,\n",
              " 'alone': 921,\n",
              " 'trying': 7018,\n",
              " 'double': 2419,\n",
              " 'txts': 7061,\n",
              " '6months': 607,\n",
              " 'bluetooth': 1412,\n",
              " 'orange': 4966,\n",
              " 'available': 1158,\n",
              " 'sony': 6280,\n",
              " 'nokia': 4796,\n",
              " 'motorola': 4596,\n",
              " 'mobileupd8': 4544,\n",
              " '08000839402': 52,\n",
              " 'call2optout': 1611,\n",
              " 'n9dx': 4669,\n",
              " 'come': 1907,\n",
              " 'right': 5757,\n",
              " 'ahmad': 876,\n",
              " 'evo': 2685,\n",
              " 'download': 2427,\n",
              " 'flash': 2885,\n",
              " 'jealous': 3801,\n",
              " 'hi': 3418,\n",
              " 'darlin': 2165,\n",
              " 'finish': 2859,\n",
              " 'meet': 4423,\n",
              " 'back': 1202,\n",
              " 'kate': 3896,\n",
              " 'xxx': 7602,\n",
              " 'im': 3607,\n",
              " 'snowboarding': 6242,\n",
              " 'trip': 6999,\n",
              " 'wondering': 7529,\n",
              " 'planning': 5221,\n",
              " 'everyone': 2676,\n",
              " 'befor': 1305,\n",
              " 'go': 3159,\n",
              " 'greet': 3235,\n",
              " 'kind': 3938,\n",
              " 'affair': 843,\n",
              " 'cheers': 1766,\n",
              " 'ard': 1049,\n",
              " '515': 550,\n",
              " 'dat': 2171,\n",
              " 'rather': 5550,\n",
              " 'prominent': 5426,\n",
              " 'bite': 1381,\n",
              " 'mark': 4355,\n",
              " 'cheek': 1763,\n",
              " 'house': 3510,\n",
              " 'sky': 6172,\n",
              " 'quite': 5507,\n",
              " 'dark': 2161,\n",
              " 'liao': 4088,\n",
              " 'raining': 5524,\n",
              " 'got': 3196,\n",
              " 'excuse': 2703,\n",
              " 'run': 5826,\n",
              " 'rite': 5771,\n",
              " 'hee': 3381,\n",
              " 'pass': 5081,\n",
              " 'dis': 2336,\n",
              " 'contacts': 1983,\n",
              " 'red': 5618,\n",
              " 'wid': 7457,\n",
              " 'blue': 1411,\n",
              " 'put': 5483,\n",
              " 'smile': 6214,\n",
              " 'face': 2750,\n",
              " 'purple': 5476,\n",
              " 'realy': 5584,\n",
              " 'hot': 3501,\n",
              " 'pink': 5203,\n",
              " 'swt': 6628,\n",
              " 'thnk': 6817,\n",
              " 'lyk': 4272,\n",
              " 'green': 3234,\n",
              " 'wana': 7324,\n",
              " 'yelow': 7631,\n",
              " 'wnt': 7515,\n",
              " 'bck': 1272,\n",
              " 'black': 1385,\n",
              " 'brown': 1531,\n",
              " 'nw': 4857,\n",
              " 'plz': 5243,\n",
              " 'giv': 3145,\n",
              " 'color': 1899,\n",
              " 're': 5563,\n",
              " 'read': 5570,\n",
              " 'shame': 6026,\n",
              " 'takes': 6653,\n",
              " 'runs': 5828,\n",
              " 'blame': 1389,\n",
              " 'dad': 2143,\n",
              " 'ph': 5163,\n",
              " 'also': 927,\n",
              " 'complete': 1929,\n",
              " 'course': 2039,\n",
              " 'aight': 881,\n",
              " 'close': 1849,\n",
              " 'still': 6448,\n",
              " 'down': 2426,\n",
              " 'around': 1071,\n",
              " 'alex': 904,\n",
              " 'place': 5214,\n",
              " 'oops': 4943,\n",
              " 'dun': 2485,\n",
              " 'haf': 3285,\n",
              " 'enuff': 2625,\n",
              " 'check': 1756,\n",
              " 'ha': 3280,\n",
              " 'must': 4652,\n",
              " 'walk': 7311,\n",
              " 'everywhere': 2681,\n",
              " 'cannot': 1644,\n",
              " 'tram': 6972,\n",
              " 'cousin': 2042,\n",
              " 'said': 5851,\n",
              " 'vic': 7237,\n",
              " 'market': 4356,\n",
              " 'hotel': 3502,\n",
              " 'leave': 4056,\n",
              " 'wif': 7459,\n",
              " 'lar': 4013,\n",
              " 'wan': 7322,\n",
              " 'carry': 1672,\n",
              " 'meh': 4430,\n",
              " 'heavy': 3379,\n",
              " 'da': 2139,\n",
              " 'num': 4846,\n",
              " '98321561': 733,\n",
              " 'familiar': 2774,\n",
              " 'wonders': 7530,\n",
              " 'world': 7545,\n",
              " '7th': 638,\n",
              " '6th': 610,\n",
              " 'style': 6516,\n",
              " '5th': 566,\n",
              " '4th': 529,\n",
              " 'personality': 5151,\n",
              " '3rd': 476,\n",
              " 'nature': 4702,\n",
              " 'sms': 6226,\n",
              " '1st': 336,\n",
              " 'lovely': 4225,\n",
              " 'friendship': 3005,\n",
              " 'newest': 4752,\n",
              " 'ûïharry': 7700,\n",
              " 'potter': 5317,\n",
              " 'order': 4969,\n",
              " 'phoenix': 5171,\n",
              " 'harry': 3334,\n",
              " 'answer': 982,\n",
              " 'questions': 5503,\n",
              " 'chance': 1725,\n",
              " 'among': 948,\n",
              " 'readers': 5571,\n",
              " 'mob': 4539,\n",
              " 'tones': 6920,\n",
              " 'ready': 5574,\n",
              " 'weeks': 7393,\n",
              " 'include': 3636,\n",
              " 'crazy': 2062,\n",
              " 'frog': 3018,\n",
              " 'axel': 1180,\n",
              " 'akon': 893,\n",
              " 'lonely': 4184,\n",
              " 'eyed': 2744,\n",
              " 'dont': 2405,\n",
              " 'info': 3660,\n",
              " 'nigh': 4768,\n",
              " 'cant': 1645,\n",
              " 'aha': 872,\n",
              " 'write': 7567,\n",
              " 'dictionary': 2295,\n",
              " 'mode': 4551,\n",
              " 'cover': 2043,\n",
              " 'screen': 5924,\n",
              " 'hand': 3303,\n",
              " 'press': 5375,\n",
              " 'gently': 3110,\n",
              " 'remove': 5670,\n",
              " 'interesting': 3693,\n",
              " 'there': 6793,\n",
              " 'point': 5266,\n",
              " 'hangin': 3312,\n",
              " 'makin': 4326,\n",
              " 'uawake': 7070,\n",
              " 'feellikw': 2809,\n",
              " 'shit': 6058,\n",
              " 'justfound': 3872,\n",
              " 'via': 7235,\n",
              " 'aletter': 903,\n",
              " 'thatmum': 6773,\n",
              " 'gotmarried': 3199,\n",
              " '4thnov': 530,\n",
              " 'behind': 1316,\n",
              " 'ourbacks': 4994,\n",
              " 'åð': 7686,\n",
              " 'fuckinnice': 3031,\n",
              " 'selfish': 5963,\n",
              " 'next': 4758,\n",
              " 'amazing': 937,\n",
              " 'picsfree1': 5191,\n",
              " 'sent': 5982,\n",
              " 'vid': 7239,\n",
              " 'enough': 2610,\n",
              " '2day': 387,\n",
              " 'keyword': 3919,\n",
              " 'hen': 3400,\n",
              " 'swing': 6624,\n",
              " 'say': 5893,\n",
              " 'until': 7139,\n",
              " 'ericsson': 2636,\n",
              " 'oso': 4987,\n",
              " 'oredi': 4972,\n",
              " 'online': 4934,\n",
              " 've': 7219,\n",
              " 'formatting': 2952,\n",
              " 'search': 5932,\n",
              " 'thats': 6774,\n",
              " 'why': 7452,\n",
              " 'called': 1616,\n",
              " 'falling': 2771,\n",
              " 'bcoz': 1277,\n",
              " 'force': 2934,\n",
              " 'yourself': 7659,\n",
              " 'fall': 2769,\n",
              " 'know': 3958,\n",
              " 'smeone': 6212,\n",
              " 'hold': 3458,\n",
              " 'bslvyl': 1539,\n",
              " 'wishing': 7491,\n",
              " 'beautiful': 1287,\n",
              " 'revealing': 5742,\n",
              " 'things': 6805,\n",
              " 'smiling': 6218,\n",
              " 'sorry': 6292,\n",
              " 'hurt': 3553,\n",
              " 'teach': 6695,\n",
              " 'apps': 1036,\n",
              " 'college': 1898,\n",
              " 'outta': 5007,\n",
              " 'class': 1832,\n",
              " 'gonna': 3179,\n",
              " 'gym': 3276,\n",
              " 'freephone': 2988,\n",
              " '0800': 49,\n",
              " '542': 556,\n",
              " '0578': 19,\n",
              " 'roger': 5784,\n",
              " 'probably': 5404,\n",
              " 'rem': 5656,\n",
              " '20': 344,\n",
              " 'eviction': 2682,\n",
              " 'spiral': 6349,\n",
              " 'michael': 4468,\n",
              " 'riddance': 5754,\n",
              " 'youdoing': 7651,\n",
              " 'sar': 5875,\n",
              " 'kit': 3948,\n",
              " 'strip': 6490,\n",
              " 'billed': 1361,\n",
              " '150p': 309,\n",
              " 'netcollex': 4738,\n",
              " 'ltd': 4245,\n",
              " 'po': 5246,\n",
              " 'box': 1464,\n",
              " '1013': 266,\n",
              " 'ig11': 3593,\n",
              " 'oja': 4907,\n",
              " 'bigger': 1357,\n",
              " 'than': 6761,\n",
              " 'game': 3065,\n",
              " 'sweet': 6615,\n",
              " 'as': 1087,\n",
              " 'well': 7404,\n",
              " 'princess': 5390,\n",
              " 'likes': 4112,\n",
              " 'dislikes': 2349,\n",
              " 'bed': 1297,\n",
              " 'party': 5078,\n",
              " 'days': 2179,\n",
              " 'study': 6508,\n",
              " 'lightly': 4107,\n",
              " 'draw': 2440,\n",
              " 'custom': 2124,\n",
              " 'checkboxes': 1757,\n",
              " 'hardcore': 3328,\n",
              " 'done': 2403,\n",
              " 'prob': 5403,\n",
              " 'email': 2573,\n",
              " 'us': 7172,\n",
              " 'would': 7558,\n",
              " 'great': 3229,\n",
              " 'guild': 3266,\n",
              " 'could': 2027,\n",
              " 'bristol': 1517,\n",
              " 'road': 5774,\n",
              " 'somewhere': 6271,\n",
              " 'touch': 6952,\n",
              " 'weekend': 7390,\n",
              " 'plans': 5222,\n",
              " 'flight': 2891,\n",
              " 'willing': 7469,\n",
              " '80488': 651,\n",
              " '500': 538,\n",
              " 'messages': 4457,\n",
              " 'valid': 7201,\n",
              " '31': 439,\n",
              " 'december': 2199,\n",
              " '2005': 349,\n",
              " 'kiss': 3945,\n",
              " 'sound': 6302,\n",
              " 'effects': 2539,\n",
              " 'gorgeous': 3192,\n",
              " 'man': 4333,\n",
              " 'person': 5148,\n",
              " 'who': 7445,\n",
              " 'needs': 4725,\n",
              " 'brighten': 1509,\n",
              " 'his': 3433,\n",
              " 'sure': 6589,\n",
              " 'woken': 7520,\n",
              " 'wants': 7331,\n",
              " 'fuck': 3027,\n",
              " 'juswoke': 3874,\n",
              " 'boatin': 1420,\n",
              " 'docks': 2374,\n",
              " 'slept': 6185,\n",
              " '25': 369,\n",
              " 'year': 7626,\n",
              " 'old': 4919,\n",
              " 'spinout': 6348,\n",
              " 'gossip': 3195,\n",
              " 'l8r': 3980,\n",
              " 'reality': 5579,\n",
              " 'fantasy': 2781,\n",
              " '08707509020': 91,\n",
              " '20p': 355,\n",
              " 'min': 4482,\n",
              " 'ntt': 4842,\n",
              " '1327': 295,\n",
              " 'croydon': 2085,\n",
              " 'cr9': 2049,\n",
              " '5wb': 567,\n",
              " '0870': 73,\n",
              " 'rate': 5548,\n",
              " 'thank': 6764,\n",
              " 'calling': 1622,\n",
              " 'forgot': 2946,\n",
              " 'onam': 4926,\n",
              " 'sirji': 6146,\n",
              " 'remembered': 5661,\n",
              " 'met': 4462,\n",
              " 'insurance': 3686,\n",
              " 'qatar': 5489,\n",
              " 'insha': 3675,\n",
              " 'allah': 914,\n",
              " 'rakhesh': 5533,\n",
              " 'ex': 2693,\n",
              " 'tata': 6677,\n",
              " 'aig': 880,\n",
              " 'joined': 3833,\n",
              " 'tissco': 6876,\n",
              " 'tayseer': 6687,\n",
              " 'actually': 808,\n",
              " 'while': 7442,\n",
              " 'went': 7408,\n",
              " 'after': 853,\n",
              " 'spoke': 6360,\n",
              " 'woke': 7519,\n",
              " 'smoking': 6224,\n",
              " 'help': 3392,\n",
              " 'through': 6834,\n",
              " 'difficult': 2310,\n",
              " 'should': 6084,\n",
              " 'yunny': 7669,\n",
              " 'walking': 7315,\n",
              " 'citylink': 1821,\n",
              " 'faster': 2787,\n",
              " 'hungry': 3546,\n",
              " 'calls': 1624,\n",
              " 'missed': 4510,\n",
              " 'aaooooright': 748,\n",
              " 'stranger': 6480,\n",
              " 'stands': 6402,\n",
              " 'never': 4747,\n",
              " 'ends': 2594,\n",
              " 'lets': 4082,\n",
              " 'friends': 3003,\n",
              " 'forever': 2938,\n",
              " 'gud': 3257,\n",
              " 'nitz': 4787,\n",
              " 'full': 3037,\n",
              " 'heat': 3377,\n",
              " 'applyed': 1027,\n",
              " 'oil': 4906,\n",
              " 'ended': 2590,\n",
              " 'another': 979,\n",
              " 'special': 6324,\n",
              " 'may': 4397,\n",
              " 'sunny': 6567,\n",
              " 'rays': 5556,\n",
              " 'leaves': 4057,\n",
              " 'worries': 7548,\n",
              " 'bay': 1266,\n",
              " 'mrng': 4611,\n",
              " 'mmm': 4529,\n",
              " 'better': 1342,\n",
              " 'roast': 5776,\n",
              " 'iåõd': 3764,\n",
              " 'few': 2820,\n",
              " 'drinks': 2449,\n",
              " 'indian': 3650,\n",
              " 'loyalty': 4239,\n",
              " 'offer': 4890,\n",
              " 'nokia6650': 4798,\n",
              " 'txtauction': 7057,\n",
              " 'txt': 7053,\n",
              " 'start': 6409,\n",
              " '81151': 656,\n",
              " 'yours': 7658,\n",
              " '4t': 528,\n",
              " 'ctxt': 2100,\n",
              " 'tc': 6690,\n",
              " 'mtmsg': 4626,\n",
              " 'ball': 1219,\n",
              " 'moving': 4607,\n",
              " 'spin': 6347,\n",
              " 'last': 4020,\n",
              " 'bat': 1255,\n",
              " 'guaranteed': 3255,\n",
              " '200': 345,\n",
              " 'award': 1172,\n",
              " '1000': 261,\n",
              " 'cashto': 1680,\n",
              " 'claim': 1823,\n",
              " '08000407165': 50,\n",
              " 'getstop': 3124,\n",
              " '88222': 707,\n",
              " 'php': 5180,\n",
              " 'wake': 7307,\n",
              " 'ago': 869,\n",
              " 'dunno': 2487,\n",
              " 'thing': 6804,\n",
              " 'cash': 1677,\n",
              " '2000': 346,\n",
              " 'yr': 7664,\n",
              " 'service': 5993,\n",
              " 'representative': 5695,\n",
              " '08714712412': 123,\n",
              " 'between': 1344,\n",
              " '10am': 268,\n",
              " '7pm': 637,\n",
              " 'cost': 2018,\n",
              " '10p': 270,\n",
              " 'corporation': 2010,\n",
              " 'st': 6390,\n",
              " 'outside': 5004,\n",
              " 'gap': 3071,\n",
              " 'û_': 7696,\n",
              " 'mind': 4485,\n",
              " 'working': 7542,\n",
              " 'haha': 3286,\n",
              " 'yup': 7672,\n",
              " 'hopefully': 3485,\n",
              " 'lose': 4203,\n",
              " 'kg': 3921,\n",
              " 'mon': 4564,\n",
              " 'hip': 3431,\n",
              " 'hop': 3482,\n",
              " 'orchard': 4968,\n",
              " 'weigh': 7394,\n",
              " 'firsg': 2869,\n",
              " 'single': 6139,\n",
              " 'line': 4124,\n",
              " 'big': 1356,\n",
              " 'meaning': 4409,\n",
              " 'anything': 1002,\n",
              " 'best': 1337,\n",
              " 'under': 7102,\n",
              " 'sea': 5931,\n",
              " 'lays': 4041,\n",
              " 'rock': 5779,\n",
              " 'envelope': 2626,\n",
              " '2yrs': 425,\n",
              " 'her': 3403,\n",
              " 'messenger': 4460,\n",
              " 'lik': 4108,\n",
              " 'sending': 5974,\n",
              " 'thanks': 6765,\n",
              " 'honey': 3472,\n",
              " 'heard': 3371,\n",
              " 'longer': 4186,\n",
              " 'crowd': 2084,\n",
              " 'advice': 836,\n",
              " 'cardiff': 1656,\n",
              " 'might': 4473,\n",
              " 'sch': 5905,\n",
              " 'yar': 7617,\n",
              " 'salon': 5859,\n",
              " 'boring': 1448,\n",
              " 'truth': 7015,\n",
              " 'against': 858,\n",
              " 'gravity': 3226,\n",
              " 'carefully': 1663,\n",
              " 'heart': 3374,\n",
              " 'feels': 2810,\n",
              " 'light': 4105,\n",
              " 'someone': 6262,\n",
              " 'goodmorning': 3186,\n",
              " 'horrible': 3493,\n",
              " 'bf': 1348,\n",
              " 'girl': 3140,\n",
              " 'remember': 5660,\n",
              " 'important': 3620,\n",
              " 'announcement': 975,\n",
              " 'premier': 5360,\n",
              " 'water': 7354,\n",
              " 'logging': 4174,\n",
              " 'desert': 2261,\n",
              " 'geoenvironmental': 3113,\n",
              " 'implications': 3619,\n",
              " 'dirt': 2333,\n",
              " 'floor': 2898,\n",
              " 'windows': 7475,\n",
              " 'shirt': 6056,\n",
              " 'sometimes': 6268,\n",
              " 'open': 4944,\n",
              " 'mouth': 4600,\n",
              " 'comes': 1909,\n",
              " 'flowing': 2903,\n",
              " 'dream': 2441,\n",
              " 'without': 7499,\n",
              " 'half': 3294,\n",
              " 'chores': 1807,\n",
              " 'joy': 3848,\n",
              " 'lots': 4211,\n",
              " 'tv': 7042,\n",
              " 'shows': 6096,\n",
              " 'guess': 3261,\n",
              " 'exist': 2712,\n",
              " 'rain': 5523,\n",
              " 'hail': 3289,\n",
              " 'mist': 4517,\n",
              " 'become': 1293,\n",
              " 'drug': 2462,\n",
              " 'she': 6038,\n",
              " 'able': 757,\n",
              " 'studying': 6509,\n",
              " 'gals': 3062,\n",
              " 'anyone': 997,\n",
              " 'driving': 2454,\n",
              " 'centre': 1712,\n",
              " 'tmr': 6887,\n",
              " 'wanna': 7325,\n",
              " 'dinner': 2324,\n",
              " 'nìâte': 4864,\n",
              " 'maybe': 4399,\n",
              " 'reboot': 5592,\n",
              " 'ym': 7643,\n",
              " 'seen': 5954,\n",
              " 'buzz': 1586,\n",
              " 'carlos': 1668,\n",
              " 'took': 6931,\n",
              " 'minute': 4498,\n",
              " ...}"
            ]
          },
          "metadata": {},
          "execution_count": 72
        }
      ]
    },
    {
      "cell_type": "code",
      "source": [
        "x_train_np = x_train_cv.toarray()\n",
        "x_train_np"
      ],
      "metadata": {
        "colab": {
          "base_uri": "https://localhost:8080/"
        },
        "id": "zfROHklcVyzZ",
        "outputId": "ee0fa59d-94cf-49d5-a28c-944f1ebf9b6e"
      },
      "execution_count": null,
      "outputs": [
        {
          "output_type": "execute_result",
          "data": {
            "text/plain": [
              "array([[0, 0, 0, ..., 0, 0, 0],\n",
              "       [0, 0, 0, ..., 0, 0, 0],\n",
              "       [0, 0, 0, ..., 0, 0, 0],\n",
              "       ...,\n",
              "       [0, 0, 0, ..., 0, 0, 0],\n",
              "       [0, 0, 0, ..., 0, 0, 0],\n",
              "       [0, 0, 0, ..., 0, 0, 0]])"
            ]
          },
          "metadata": {},
          "execution_count": 74
        }
      ]
    },
    {
      "cell_type": "code",
      "source": [
        "np.where(x_train_np[0]!=0) #there are sertain words where value are not 0\n"
      ],
      "metadata": {
        "colab": {
          "base_uri": "https://localhost:8080/"
        },
        "id": "lJcQLztGVy18",
        "outputId": "3b66af7d-519f-4796-a3d7-ae169c8dbfe9"
      },
      "execution_count": null,
      "outputs": [
        {
          "output_type": "execute_result",
          "data": {
            "text/plain": [
              "(array([3500, 5953, 6771, 7130]),)"
            ]
          },
          "metadata": {},
          "execution_count": 76
        }
      ]
    },
    {
      "cell_type": "markdown",
      "source": [
        "**Naive bayes classifier**"
      ],
      "metadata": {
        "id": "QJU-UQHdW9nT"
      }
    },
    {
      "cell_type": "code",
      "source": [
        "from sklearn.naive_bayes import MultinomialNB\n",
        "model = MultinomialNB()\n",
        "model.fit(x_train_cv, y_train)"
      ],
      "metadata": {
        "colab": {
          "base_uri": "https://localhost:8080/",
          "height": 80
        },
        "id": "SE_LIDt3Vy6p",
        "outputId": "0f9bc9e7-2d21-4af1-9b9b-9f6581895611"
      },
      "execution_count": null,
      "outputs": [
        {
          "output_type": "execute_result",
          "data": {
            "text/plain": [
              "MultinomialNB()"
            ],
            "text/html": [
              "<style>#sk-container-id-1 {\n",
              "  /* Definition of color scheme common for light and dark mode */\n",
              "  --sklearn-color-text: #000;\n",
              "  --sklearn-color-text-muted: #666;\n",
              "  --sklearn-color-line: gray;\n",
              "  /* Definition of color scheme for unfitted estimators */\n",
              "  --sklearn-color-unfitted-level-0: #fff5e6;\n",
              "  --sklearn-color-unfitted-level-1: #f6e4d2;\n",
              "  --sklearn-color-unfitted-level-2: #ffe0b3;\n",
              "  --sklearn-color-unfitted-level-3: chocolate;\n",
              "  /* Definition of color scheme for fitted estimators */\n",
              "  --sklearn-color-fitted-level-0: #f0f8ff;\n",
              "  --sklearn-color-fitted-level-1: #d4ebff;\n",
              "  --sklearn-color-fitted-level-2: #b3dbfd;\n",
              "  --sklearn-color-fitted-level-3: cornflowerblue;\n",
              "\n",
              "  /* Specific color for light theme */\n",
              "  --sklearn-color-text-on-default-background: var(--sg-text-color, var(--theme-code-foreground, var(--jp-content-font-color1, black)));\n",
              "  --sklearn-color-background: var(--sg-background-color, var(--theme-background, var(--jp-layout-color0, white)));\n",
              "  --sklearn-color-border-box: var(--sg-text-color, var(--theme-code-foreground, var(--jp-content-font-color1, black)));\n",
              "  --sklearn-color-icon: #696969;\n",
              "\n",
              "  @media (prefers-color-scheme: dark) {\n",
              "    /* Redefinition of color scheme for dark theme */\n",
              "    --sklearn-color-text-on-default-background: var(--sg-text-color, var(--theme-code-foreground, var(--jp-content-font-color1, white)));\n",
              "    --sklearn-color-background: var(--sg-background-color, var(--theme-background, var(--jp-layout-color0, #111)));\n",
              "    --sklearn-color-border-box: var(--sg-text-color, var(--theme-code-foreground, var(--jp-content-font-color1, white)));\n",
              "    --sklearn-color-icon: #878787;\n",
              "  }\n",
              "}\n",
              "\n",
              "#sk-container-id-1 {\n",
              "  color: var(--sklearn-color-text);\n",
              "}\n",
              "\n",
              "#sk-container-id-1 pre {\n",
              "  padding: 0;\n",
              "}\n",
              "\n",
              "#sk-container-id-1 input.sk-hidden--visually {\n",
              "  border: 0;\n",
              "  clip: rect(1px 1px 1px 1px);\n",
              "  clip: rect(1px, 1px, 1px, 1px);\n",
              "  height: 1px;\n",
              "  margin: -1px;\n",
              "  overflow: hidden;\n",
              "  padding: 0;\n",
              "  position: absolute;\n",
              "  width: 1px;\n",
              "}\n",
              "\n",
              "#sk-container-id-1 div.sk-dashed-wrapped {\n",
              "  border: 1px dashed var(--sklearn-color-line);\n",
              "  margin: 0 0.4em 0.5em 0.4em;\n",
              "  box-sizing: border-box;\n",
              "  padding-bottom: 0.4em;\n",
              "  background-color: var(--sklearn-color-background);\n",
              "}\n",
              "\n",
              "#sk-container-id-1 div.sk-container {\n",
              "  /* jupyter's `normalize.less` sets `[hidden] { display: none; }`\n",
              "     but bootstrap.min.css set `[hidden] { display: none !important; }`\n",
              "     so we also need the `!important` here to be able to override the\n",
              "     default hidden behavior on the sphinx rendered scikit-learn.org.\n",
              "     See: https://github.com/scikit-learn/scikit-learn/issues/21755 */\n",
              "  display: inline-block !important;\n",
              "  position: relative;\n",
              "}\n",
              "\n",
              "#sk-container-id-1 div.sk-text-repr-fallback {\n",
              "  display: none;\n",
              "}\n",
              "\n",
              "div.sk-parallel-item,\n",
              "div.sk-serial,\n",
              "div.sk-item {\n",
              "  /* draw centered vertical line to link estimators */\n",
              "  background-image: linear-gradient(var(--sklearn-color-text-on-default-background), var(--sklearn-color-text-on-default-background));\n",
              "  background-size: 2px 100%;\n",
              "  background-repeat: no-repeat;\n",
              "  background-position: center center;\n",
              "}\n",
              "\n",
              "/* Parallel-specific style estimator block */\n",
              "\n",
              "#sk-container-id-1 div.sk-parallel-item::after {\n",
              "  content: \"\";\n",
              "  width: 100%;\n",
              "  border-bottom: 2px solid var(--sklearn-color-text-on-default-background);\n",
              "  flex-grow: 1;\n",
              "}\n",
              "\n",
              "#sk-container-id-1 div.sk-parallel {\n",
              "  display: flex;\n",
              "  align-items: stretch;\n",
              "  justify-content: center;\n",
              "  background-color: var(--sklearn-color-background);\n",
              "  position: relative;\n",
              "}\n",
              "\n",
              "#sk-container-id-1 div.sk-parallel-item {\n",
              "  display: flex;\n",
              "  flex-direction: column;\n",
              "}\n",
              "\n",
              "#sk-container-id-1 div.sk-parallel-item:first-child::after {\n",
              "  align-self: flex-end;\n",
              "  width: 50%;\n",
              "}\n",
              "\n",
              "#sk-container-id-1 div.sk-parallel-item:last-child::after {\n",
              "  align-self: flex-start;\n",
              "  width: 50%;\n",
              "}\n",
              "\n",
              "#sk-container-id-1 div.sk-parallel-item:only-child::after {\n",
              "  width: 0;\n",
              "}\n",
              "\n",
              "/* Serial-specific style estimator block */\n",
              "\n",
              "#sk-container-id-1 div.sk-serial {\n",
              "  display: flex;\n",
              "  flex-direction: column;\n",
              "  align-items: center;\n",
              "  background-color: var(--sklearn-color-background);\n",
              "  padding-right: 1em;\n",
              "  padding-left: 1em;\n",
              "}\n",
              "\n",
              "\n",
              "/* Toggleable style: style used for estimator/Pipeline/ColumnTransformer box that is\n",
              "clickable and can be expanded/collapsed.\n",
              "- Pipeline and ColumnTransformer use this feature and define the default style\n",
              "- Estimators will overwrite some part of the style using the `sk-estimator` class\n",
              "*/\n",
              "\n",
              "/* Pipeline and ColumnTransformer style (default) */\n",
              "\n",
              "#sk-container-id-1 div.sk-toggleable {\n",
              "  /* Default theme specific background. It is overwritten whether we have a\n",
              "  specific estimator or a Pipeline/ColumnTransformer */\n",
              "  background-color: var(--sklearn-color-background);\n",
              "}\n",
              "\n",
              "/* Toggleable label */\n",
              "#sk-container-id-1 label.sk-toggleable__label {\n",
              "  cursor: pointer;\n",
              "  display: flex;\n",
              "  width: 100%;\n",
              "  margin-bottom: 0;\n",
              "  padding: 0.5em;\n",
              "  box-sizing: border-box;\n",
              "  text-align: center;\n",
              "  align-items: start;\n",
              "  justify-content: space-between;\n",
              "  gap: 0.5em;\n",
              "}\n",
              "\n",
              "#sk-container-id-1 label.sk-toggleable__label .caption {\n",
              "  font-size: 0.6rem;\n",
              "  font-weight: lighter;\n",
              "  color: var(--sklearn-color-text-muted);\n",
              "}\n",
              "\n",
              "#sk-container-id-1 label.sk-toggleable__label-arrow:before {\n",
              "  /* Arrow on the left of the label */\n",
              "  content: \"▸\";\n",
              "  float: left;\n",
              "  margin-right: 0.25em;\n",
              "  color: var(--sklearn-color-icon);\n",
              "}\n",
              "\n",
              "#sk-container-id-1 label.sk-toggleable__label-arrow:hover:before {\n",
              "  color: var(--sklearn-color-text);\n",
              "}\n",
              "\n",
              "/* Toggleable content - dropdown */\n",
              "\n",
              "#sk-container-id-1 div.sk-toggleable__content {\n",
              "  max-height: 0;\n",
              "  max-width: 0;\n",
              "  overflow: hidden;\n",
              "  text-align: left;\n",
              "  /* unfitted */\n",
              "  background-color: var(--sklearn-color-unfitted-level-0);\n",
              "}\n",
              "\n",
              "#sk-container-id-1 div.sk-toggleable__content.fitted {\n",
              "  /* fitted */\n",
              "  background-color: var(--sklearn-color-fitted-level-0);\n",
              "}\n",
              "\n",
              "#sk-container-id-1 div.sk-toggleable__content pre {\n",
              "  margin: 0.2em;\n",
              "  border-radius: 0.25em;\n",
              "  color: var(--sklearn-color-text);\n",
              "  /* unfitted */\n",
              "  background-color: var(--sklearn-color-unfitted-level-0);\n",
              "}\n",
              "\n",
              "#sk-container-id-1 div.sk-toggleable__content.fitted pre {\n",
              "  /* unfitted */\n",
              "  background-color: var(--sklearn-color-fitted-level-0);\n",
              "}\n",
              "\n",
              "#sk-container-id-1 input.sk-toggleable__control:checked~div.sk-toggleable__content {\n",
              "  /* Expand drop-down */\n",
              "  max-height: 200px;\n",
              "  max-width: 100%;\n",
              "  overflow: auto;\n",
              "}\n",
              "\n",
              "#sk-container-id-1 input.sk-toggleable__control:checked~label.sk-toggleable__label-arrow:before {\n",
              "  content: \"▾\";\n",
              "}\n",
              "\n",
              "/* Pipeline/ColumnTransformer-specific style */\n",
              "\n",
              "#sk-container-id-1 div.sk-label input.sk-toggleable__control:checked~label.sk-toggleable__label {\n",
              "  color: var(--sklearn-color-text);\n",
              "  background-color: var(--sklearn-color-unfitted-level-2);\n",
              "}\n",
              "\n",
              "#sk-container-id-1 div.sk-label.fitted input.sk-toggleable__control:checked~label.sk-toggleable__label {\n",
              "  background-color: var(--sklearn-color-fitted-level-2);\n",
              "}\n",
              "\n",
              "/* Estimator-specific style */\n",
              "\n",
              "/* Colorize estimator box */\n",
              "#sk-container-id-1 div.sk-estimator input.sk-toggleable__control:checked~label.sk-toggleable__label {\n",
              "  /* unfitted */\n",
              "  background-color: var(--sklearn-color-unfitted-level-2);\n",
              "}\n",
              "\n",
              "#sk-container-id-1 div.sk-estimator.fitted input.sk-toggleable__control:checked~label.sk-toggleable__label {\n",
              "  /* fitted */\n",
              "  background-color: var(--sklearn-color-fitted-level-2);\n",
              "}\n",
              "\n",
              "#sk-container-id-1 div.sk-label label.sk-toggleable__label,\n",
              "#sk-container-id-1 div.sk-label label {\n",
              "  /* The background is the default theme color */\n",
              "  color: var(--sklearn-color-text-on-default-background);\n",
              "}\n",
              "\n",
              "/* On hover, darken the color of the background */\n",
              "#sk-container-id-1 div.sk-label:hover label.sk-toggleable__label {\n",
              "  color: var(--sklearn-color-text);\n",
              "  background-color: var(--sklearn-color-unfitted-level-2);\n",
              "}\n",
              "\n",
              "/* Label box, darken color on hover, fitted */\n",
              "#sk-container-id-1 div.sk-label.fitted:hover label.sk-toggleable__label.fitted {\n",
              "  color: var(--sklearn-color-text);\n",
              "  background-color: var(--sklearn-color-fitted-level-2);\n",
              "}\n",
              "\n",
              "/* Estimator label */\n",
              "\n",
              "#sk-container-id-1 div.sk-label label {\n",
              "  font-family: monospace;\n",
              "  font-weight: bold;\n",
              "  display: inline-block;\n",
              "  line-height: 1.2em;\n",
              "}\n",
              "\n",
              "#sk-container-id-1 div.sk-label-container {\n",
              "  text-align: center;\n",
              "}\n",
              "\n",
              "/* Estimator-specific */\n",
              "#sk-container-id-1 div.sk-estimator {\n",
              "  font-family: monospace;\n",
              "  border: 1px dotted var(--sklearn-color-border-box);\n",
              "  border-radius: 0.25em;\n",
              "  box-sizing: border-box;\n",
              "  margin-bottom: 0.5em;\n",
              "  /* unfitted */\n",
              "  background-color: var(--sklearn-color-unfitted-level-0);\n",
              "}\n",
              "\n",
              "#sk-container-id-1 div.sk-estimator.fitted {\n",
              "  /* fitted */\n",
              "  background-color: var(--sklearn-color-fitted-level-0);\n",
              "}\n",
              "\n",
              "/* on hover */\n",
              "#sk-container-id-1 div.sk-estimator:hover {\n",
              "  /* unfitted */\n",
              "  background-color: var(--sklearn-color-unfitted-level-2);\n",
              "}\n",
              "\n",
              "#sk-container-id-1 div.sk-estimator.fitted:hover {\n",
              "  /* fitted */\n",
              "  background-color: var(--sklearn-color-fitted-level-2);\n",
              "}\n",
              "\n",
              "/* Specification for estimator info (e.g. \"i\" and \"?\") */\n",
              "\n",
              "/* Common style for \"i\" and \"?\" */\n",
              "\n",
              ".sk-estimator-doc-link,\n",
              "a:link.sk-estimator-doc-link,\n",
              "a:visited.sk-estimator-doc-link {\n",
              "  float: right;\n",
              "  font-size: smaller;\n",
              "  line-height: 1em;\n",
              "  font-family: monospace;\n",
              "  background-color: var(--sklearn-color-background);\n",
              "  border-radius: 1em;\n",
              "  height: 1em;\n",
              "  width: 1em;\n",
              "  text-decoration: none !important;\n",
              "  margin-left: 0.5em;\n",
              "  text-align: center;\n",
              "  /* unfitted */\n",
              "  border: var(--sklearn-color-unfitted-level-1) 1pt solid;\n",
              "  color: var(--sklearn-color-unfitted-level-1);\n",
              "}\n",
              "\n",
              ".sk-estimator-doc-link.fitted,\n",
              "a:link.sk-estimator-doc-link.fitted,\n",
              "a:visited.sk-estimator-doc-link.fitted {\n",
              "  /* fitted */\n",
              "  border: var(--sklearn-color-fitted-level-1) 1pt solid;\n",
              "  color: var(--sklearn-color-fitted-level-1);\n",
              "}\n",
              "\n",
              "/* On hover */\n",
              "div.sk-estimator:hover .sk-estimator-doc-link:hover,\n",
              ".sk-estimator-doc-link:hover,\n",
              "div.sk-label-container:hover .sk-estimator-doc-link:hover,\n",
              ".sk-estimator-doc-link:hover {\n",
              "  /* unfitted */\n",
              "  background-color: var(--sklearn-color-unfitted-level-3);\n",
              "  color: var(--sklearn-color-background);\n",
              "  text-decoration: none;\n",
              "}\n",
              "\n",
              "div.sk-estimator.fitted:hover .sk-estimator-doc-link.fitted:hover,\n",
              ".sk-estimator-doc-link.fitted:hover,\n",
              "div.sk-label-container:hover .sk-estimator-doc-link.fitted:hover,\n",
              ".sk-estimator-doc-link.fitted:hover {\n",
              "  /* fitted */\n",
              "  background-color: var(--sklearn-color-fitted-level-3);\n",
              "  color: var(--sklearn-color-background);\n",
              "  text-decoration: none;\n",
              "}\n",
              "\n",
              "/* Span, style for the box shown on hovering the info icon */\n",
              ".sk-estimator-doc-link span {\n",
              "  display: none;\n",
              "  z-index: 9999;\n",
              "  position: relative;\n",
              "  font-weight: normal;\n",
              "  right: .2ex;\n",
              "  padding: .5ex;\n",
              "  margin: .5ex;\n",
              "  width: min-content;\n",
              "  min-width: 20ex;\n",
              "  max-width: 50ex;\n",
              "  color: var(--sklearn-color-text);\n",
              "  box-shadow: 2pt 2pt 4pt #999;\n",
              "  /* unfitted */\n",
              "  background: var(--sklearn-color-unfitted-level-0);\n",
              "  border: .5pt solid var(--sklearn-color-unfitted-level-3);\n",
              "}\n",
              "\n",
              ".sk-estimator-doc-link.fitted span {\n",
              "  /* fitted */\n",
              "  background: var(--sklearn-color-fitted-level-0);\n",
              "  border: var(--sklearn-color-fitted-level-3);\n",
              "}\n",
              "\n",
              ".sk-estimator-doc-link:hover span {\n",
              "  display: block;\n",
              "}\n",
              "\n",
              "/* \"?\"-specific style due to the `<a>` HTML tag */\n",
              "\n",
              "#sk-container-id-1 a.estimator_doc_link {\n",
              "  float: right;\n",
              "  font-size: 1rem;\n",
              "  line-height: 1em;\n",
              "  font-family: monospace;\n",
              "  background-color: var(--sklearn-color-background);\n",
              "  border-radius: 1rem;\n",
              "  height: 1rem;\n",
              "  width: 1rem;\n",
              "  text-decoration: none;\n",
              "  /* unfitted */\n",
              "  color: var(--sklearn-color-unfitted-level-1);\n",
              "  border: var(--sklearn-color-unfitted-level-1) 1pt solid;\n",
              "}\n",
              "\n",
              "#sk-container-id-1 a.estimator_doc_link.fitted {\n",
              "  /* fitted */\n",
              "  border: var(--sklearn-color-fitted-level-1) 1pt solid;\n",
              "  color: var(--sklearn-color-fitted-level-1);\n",
              "}\n",
              "\n",
              "/* On hover */\n",
              "#sk-container-id-1 a.estimator_doc_link:hover {\n",
              "  /* unfitted */\n",
              "  background-color: var(--sklearn-color-unfitted-level-3);\n",
              "  color: var(--sklearn-color-background);\n",
              "  text-decoration: none;\n",
              "}\n",
              "\n",
              "#sk-container-id-1 a.estimator_doc_link.fitted:hover {\n",
              "  /* fitted */\n",
              "  background-color: var(--sklearn-color-fitted-level-3);\n",
              "}\n",
              "</style><div id=\"sk-container-id-1\" class=\"sk-top-container\"><div class=\"sk-text-repr-fallback\"><pre>MultinomialNB()</pre><b>In a Jupyter environment, please rerun this cell to show the HTML representation or trust the notebook. <br />On GitHub, the HTML representation is unable to render, please try loading this page with nbviewer.org.</b></div><div class=\"sk-container\" hidden><div class=\"sk-item\"><div class=\"sk-estimator fitted sk-toggleable\"><input class=\"sk-toggleable__control sk-hidden--visually\" id=\"sk-estimator-id-1\" type=\"checkbox\" checked><label for=\"sk-estimator-id-1\" class=\"sk-toggleable__label fitted sk-toggleable__label-arrow\"><div><div>MultinomialNB</div></div><div><a class=\"sk-estimator-doc-link fitted\" rel=\"noreferrer\" target=\"_blank\" href=\"https://scikit-learn.org/1.6/modules/generated/sklearn.naive_bayes.MultinomialNB.html\">?<span>Documentation for MultinomialNB</span></a><span class=\"sk-estimator-doc-link fitted\">i<span>Fitted</span></span></div></label><div class=\"sk-toggleable__content fitted\"><pre>MultinomialNB()</pre></div> </div></div></div></div>"
            ]
          },
          "metadata": {},
          "execution_count": 77
        }
      ]
    },
    {
      "cell_type": "code",
      "source": [
        "#model evaluation\n",
        "y_pred = model.predict(x_test_cv)"
      ],
      "metadata": {
        "id": "e34sf1r5Vy9N"
      },
      "execution_count": null,
      "outputs": []
    },
    {
      "cell_type": "code",
      "source": [
        "from sklearn.metrics import classification_report\n",
        "print(classification_report(y_test, y_pred))"
      ],
      "metadata": {
        "colab": {
          "base_uri": "https://localhost:8080/"
        },
        "id": "OXIpn8TQVy_d",
        "outputId": "3e4f92a2-4594-4eca-9970-92f420d232a3"
      },
      "execution_count": null,
      "outputs": [
        {
          "output_type": "stream",
          "name": "stdout",
          "text": [
            "              precision    recall  f1-score   support\n",
            "\n",
            "           0       0.99      1.00      0.99       963\n",
            "           1       0.97      0.95      0.96       152\n",
            "\n",
            "    accuracy                           0.99      1115\n",
            "   macro avg       0.98      0.97      0.98      1115\n",
            "weighted avg       0.99      0.99      0.99      1115\n",
            "\n"
          ]
        }
      ]
    },
    {
      "cell_type": "code",
      "source": [
        "# test model on random data points\n",
        "message = \"Hi Chinmay Keshav,Use the code below to log in to your Udemy account518573 This code expires in 15 minutes.\""
      ],
      "metadata": {
        "id": "daLILT9LVzCr"
      },
      "execution_count": null,
      "outputs": []
    },
    {
      "cell_type": "code",
      "source": [
        "message_cnt = v.transform([message])\n",
        "model.predict(message_cnt)"
      ],
      "metadata": {
        "colab": {
          "base_uri": "https://localhost:8080/",
          "height": 158
        },
        "id": "8QbMOYIRcXTM",
        "outputId": "1e6ed762-a2f3-48a5-ae50-31afdead2de9"
      },
      "execution_count": null,
      "outputs": [
        {
          "output_type": "error",
          "ename": "NameError",
          "evalue": "name 'v' is not defined",
          "traceback": [
            "\u001b[0;31m---------------------------------------------------------------------------\u001b[0m",
            "\u001b[0;31mNameError\u001b[0m                                 Traceback (most recent call last)",
            "\u001b[0;32m/tmp/ipython-input-3025064468.py\u001b[0m in \u001b[0;36m<cell line: 0>\u001b[0;34m()\u001b[0m\n\u001b[0;32m----> 1\u001b[0;31m \u001b[0mmessage_cnt\u001b[0m \u001b[0;34m=\u001b[0m \u001b[0mv\u001b[0m\u001b[0;34m.\u001b[0m\u001b[0mtransform\u001b[0m\u001b[0;34m(\u001b[0m\u001b[0;34m[\u001b[0m\u001b[0mmessage\u001b[0m\u001b[0;34m]\u001b[0m\u001b[0;34m)\u001b[0m\u001b[0;34m\u001b[0m\u001b[0;34m\u001b[0m\u001b[0m\n\u001b[0m\u001b[1;32m      2\u001b[0m \u001b[0mmodel\u001b[0m\u001b[0;34m.\u001b[0m\u001b[0mpredict\u001b[0m\u001b[0;34m(\u001b[0m\u001b[0mmessage_cnt\u001b[0m\u001b[0;34m)\u001b[0m\u001b[0;34m\u001b[0m\u001b[0;34m\u001b[0m\u001b[0m\n",
            "\u001b[0;31mNameError\u001b[0m: name 'v' is not defined"
          ]
        }
      ]
    },
    {
      "cell_type": "code",
      "source": [
        "#we not use bag of words in these time because we have advanced techniques"
      ],
      "metadata": {
        "id": "N15UxOa5cXpe"
      },
      "execution_count": null,
      "outputs": []
    },
    {
      "cell_type": "code",
      "source": [],
      "metadata": {
        "id": "J4WhUKSQcXsd"
      },
      "execution_count": null,
      "outputs": []
    },
    {
      "cell_type": "code",
      "source": [],
      "metadata": {
        "id": "wg5IdyTIcXvF"
      },
      "execution_count": null,
      "outputs": []
    },
    {
      "cell_type": "code",
      "source": [],
      "metadata": {
        "id": "ni0YT4RKcXxg"
      },
      "execution_count": null,
      "outputs": []
    },
    {
      "cell_type": "code",
      "source": [],
      "metadata": {
        "id": "1zNo_hNWcX0G"
      },
      "execution_count": null,
      "outputs": []
    },
    {
      "cell_type": "code",
      "source": [],
      "metadata": {
        "id": "aF-KM8AFcX3B"
      },
      "execution_count": null,
      "outputs": []
    },
    {
      "cell_type": "code",
      "source": [],
      "metadata": {
        "id": "zscHOet5cX6u"
      },
      "execution_count": null,
      "outputs": []
    },
    {
      "cell_type": "code",
      "source": [],
      "metadata": {
        "id": "r_pZi6N1cX9Y"
      },
      "execution_count": null,
      "outputs": []
    }
  ],
  "metadata": {
    "accelerator": "GPU",
    "colab": {
      "gpuType": "T4",
      "provenance": []
    },
    "kernelspec": {
      "display_name": "Python 3",
      "name": "python3"
    },
    "language_info": {
      "name": "python"
    }
  },
  "nbformat": 4,
  "nbformat_minor": 0
}